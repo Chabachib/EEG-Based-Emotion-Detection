{
  "cells": [
    {
      "cell_type": "code",
      "execution_count": null,
      "metadata": {
        "id": "HVcOjCvJKYuk"
      },
      "outputs": [],
      "source": [
        "import pickle\n",
        "import numpy as np\n",
        "import matplotlib.pyplot as plt\n",
        "from google.colab import drive\n",
        "from scipy.stats import kurtosis, skew\n",
        "from scipy.signal import welch\n",
        "from scipy.integrate import simps\n",
        "from sklearn.neighbors import KNeighborsClassifier\n",
        "from sklearn.svm import SVC\n",
        "from sklearn.tree import DecisionTreeClassifier\n",
        "from sklearn.ensemble import RandomForestClassifier\n",
        "from sklearn.metrics import accuracy_score\n",
        "from sklearn.preprocessing import StandardScaler\n",
        "from sklearn.model_selection import train_test_split"
      ]
    },
    {
      "cell_type": "code",
      "execution_count": null,
      "metadata": {
        "colab": {
          "base_uri": "https://localhost:8080/"
        },
        "id": "RjuKoDE0jtMk",
        "outputId": "8f04e484-8419-416c-e2ae-7ea8cedc1da1"
      },
      "outputs": [
        {
          "output_type": "stream",
          "name": "stdout",
          "text": [
            "Drive already mounted at /content/drive; to attempt to forcibly remount, call drive.mount(\"/content/drive\", force_remount=True).\n"
          ]
        }
      ],
      "source": [
        "drive.mount('/content/drive')"
      ]
    },
    {
      "cell_type": "code",
      "execution_count": null,
      "metadata": {
        "id": "fTqXUSE9KZ_i"
      },
      "outputs": [],
      "source": [
        "def read_data(filename):\n",
        "    with open(filename, 'rb') as f:\n",
        "        data = pickle.load(f, encoding='latin1')\n",
        "    return data"
      ]
    },
    {
      "cell_type": "code",
      "execution_count": null,
      "metadata": {
        "colab": {
          "base_uri": "https://localhost:8080/"
        },
        "id": "xUq5Y26wKcnC",
        "outputId": "4383a1d9-f975-4405-fbd2-681a39d4c1a5"
      },
      "outputs": [
        {
          "output_type": "stream",
          "name": "stdout",
          "text": [
            "['s01.dat', 's02.dat', 's03.dat', 's04.dat', 's05.dat', 's06.dat', 's07.dat', 's08.dat', 's09.dat', 's10.dat', 's11.dat', 's12.dat', 's13.dat', 's14.dat', 's15.dat', 's16.dat', 's17.dat', 's18.dat', 's19.dat', 's20.dat', 's21.dat', 's22.dat', 's23.dat', 's24.dat', 's25.dat', 's26.dat', 's27.dat', 's28.dat', 's29.dat', 's30.dat', 's31.dat', 's32.dat']\n"
          ]
        }
      ],
      "source": [
        "files = [f\"s{str(i).zfill(2)}.dat\" for i in range(1, 33)]\n",
        "print(files)\n",
        "\n",
        "data_list = []\n",
        "labels_list = []\n",
        "\n",
        "data_path = \"/content/drive/My Drive/EEG/\""
      ]
    },
    {
      "cell_type": "code",
      "execution_count": null,
      "metadata": {
        "colab": {
          "base_uri": "https://localhost:8080/"
        },
        "id": "gfRso4DwKNWV",
        "outputId": "ba88e01b-e1b1-459b-deb3-979fb232d779"
      },
      "outputs": [
        {
          "output_type": "stream",
          "name": "stdout",
          "text": [
            "Data shape: (32, 40, 40, 8064)\n",
            "Labels shape: (32, 40, 4)\n"
          ]
        }
      ],
      "source": [
        "for file in files:\n",
        "    full_path = data_path + file\n",
        "    file_data = read_data(full_path)\n",
        "    data_list.append(file_data['data'])\n",
        "    labels_list.append(file_data['labels'])\n",
        "\n",
        "data_array = np.array(data_list)\n",
        "labels_array = np.array(labels_list)\n",
        "\n",
        "print(\"Data shape:\", data_array.shape)\n",
        "print(\"Labels shape:\", labels_array.shape)\n"
      ]
    },
    {
      "cell_type": "code",
      "execution_count": null,
      "metadata": {
        "colab": {
          "base_uri": "https://localhost:8080/"
        },
        "id": "wMWP5c2hLHLT",
        "outputId": "446a7035-f337-4268-eab4-acbc50ad8e94"
      },
      "outputs": [
        {
          "output_type": "stream",
          "name": "stdout",
          "text": [
            "EEG Data shape: (1280, 32, 8064)\n",
            "Labels shape: (1280, 4)\n"
          ]
        }
      ],
      "source": [
        "eeg_data = data_array[:, :, :32, :]\n",
        "eeg_data = eeg_data.reshape(-1, 32, 8064)\n",
        "labels = labels_array.reshape(-1, 4)\n",
        "\n",
        "print(\"EEG Data shape:\", eeg_data.shape)\n",
        "print(\"Labels shape:\", labels.shape)"
      ]
    },
    {
      "cell_type": "code",
      "execution_count": null,
      "metadata": {
        "colab": {
          "base_uri": "https://localhost:8080/"
        },
        "id": "cq2HjxnYLI2S",
        "outputId": "147a1910-9600-4893-e39f-7f97f8142c67"
      },
      "outputs": [
        {
          "output_type": "stream",
          "name": "stdout",
          "text": [
            "EEG Data Min: -2656.4252330049085\n",
            "EEG Data Max: 2843.9056801961733\n",
            "Label Ranges:\n",
            "Valence: 1.0 - 9.0\n",
            "Arousal: 1.0 - 9.0\n",
            "Dominance: 1.0 - 9.0\n",
            "Liking: 1.0 - 9.0\n"
          ]
        }
      ],
      "source": [
        "print(\"EEG Data Min:\", np.min(eeg_data))\n",
        "print(\"EEG Data Max:\", np.max(eeg_data))\n",
        "print(\"Label Ranges:\")\n",
        "print(\"Valence:\", labels[:, 0].min(), \"-\", labels[:, 0].max())\n",
        "print(\"Arousal:\", labels[:, 1].min(), \"-\", labels[:, 1].max())\n",
        "print(\"Dominance:\", labels[:, 2].min(), \"-\", labels[:, 2].max())\n",
        "print(\"Liking:\", labels[:, 3].min(), \"-\", labels[:, 3].max())"
      ]
    },
    {
      "cell_type": "code",
      "execution_count": null,
      "metadata": {
        "colab": {
          "base_uri": "https://localhost:8080/"
        },
        "id": "yDKcTTDFLd_J",
        "outputId": "2f155d31-04bb-4b77-f97f-91524b559a0d"
      },
      "outputs": [
        {
          "output_type": "stream",
          "name": "stdout",
          "text": [
            "Statistical Features Shape: (1280, 128)\n"
          ]
        }
      ],
      "source": [
        "def calculate_statistical_features(data):\n",
        "    mean = np.mean(data, axis=1)\n",
        "    std_dev = np.std(data, axis=1)\n",
        "    skewness = skew(data, axis=1)\n",
        "    kurt = kurtosis(data, axis=1)\n",
        "    features = np.vstack((mean, std_dev, skewness, kurt)).T\n",
        "    return features\n",
        "\n",
        "stat_features = []\n",
        "\n",
        "for trial in eeg_data:\n",
        "    trial_features = calculate_statistical_features(trial)\n",
        "    stat_features.append(trial_features.flatten())\n",
        "\n",
        "stat_features = np.array(stat_features)\n",
        "\n",
        "print(\"Statistical Features Shape:\", stat_features.shape)"
      ]
    },
    {
      "cell_type": "code",
      "source": [
        "def bandpower(data, sf, band):\n",
        "    band = np.asarray(band)\n",
        "    low, high = band\n",
        "    nperseg = (2 / low) * sf\n",
        "    freqs, psd = welch(data, sf, nperseg=int(nperseg))\n",
        "    freq_res = freqs[1] - freqs[0]\n",
        "    idx_band = np.logical_and(freqs >= low, freqs <= high)\n",
        "    bp = simps(psd[idx_band], dx=freq_res)\n",
        "    return bp"
      ],
      "metadata": {
        "id": "qxr4awpCqkDK"
      },
      "execution_count": null,
      "outputs": []
    },
    {
      "cell_type": "code",
      "source": [
        "sf = 128\n",
        "bands = {\"Delta\": (0.5, 4), \"Theta\": (4, 8), \"Alpha\": (8, 12), \"Beta\": (12, 30), \"Gamma\": (30, 64)}\n",
        "band_features = []"
      ],
      "metadata": {
        "id": "3uX5_TQjqlTh"
      },
      "execution_count": null,
      "outputs": []
    },
    {
      "cell_type": "code",
      "execution_count": null,
      "metadata": {
        "colab": {
          "base_uri": "https://localhost:8080/"
        },
        "id": "j-05QXdrLkKp",
        "outputId": "52315632-3d24-4b96-953e-b4a02c1c348f"
      },
      "outputs": [
        {
          "output_type": "stream",
          "name": "stderr",
          "text": [
            "<ipython-input-46-5b118b003726>:8: DeprecationWarning: 'scipy.integrate.simps' is deprecated in favour of 'scipy.integrate.simpson' and will be removed in SciPy 1.14.0\n",
            "  bp = simps(psd[idx_band], dx=freq_res)\n"
          ]
        },
        {
          "output_type": "stream",
          "name": "stdout",
          "text": [
            "Band Power Features Shape: (1280, 160)\n"
          ]
        }
      ],
      "source": [
        "for trial in eeg_data:\n",
        "    trial_band_features = []\n",
        "    for channel in trial:\n",
        "        channel_features = [bandpower(channel, sf, band) for band in bands.values()]\n",
        "        trial_band_features.extend(channel_features)\n",
        "    band_features.append(trial_band_features)\n",
        "\n",
        "band_features = np.array(band_features)\n",
        "print(\"Band Power Features Shape:\", band_features.shape)"
      ]
    },
    {
      "cell_type": "code",
      "execution_count": null,
      "metadata": {
        "colab": {
          "base_uri": "https://localhost:8080/"
        },
        "id": "rS_RfuRaL0IR",
        "outputId": "bd03bd4e-b5e8-4707-b375-6ae40e2ed648"
      },
      "outputs": [
        {
          "output_type": "stream",
          "name": "stdout",
          "text": [
            "Combined Features Shape: (1280, 288)\n"
          ]
        }
      ],
      "source": [
        "features = np.hstack((stat_features, band_features))\n",
        "print(\"Combined Features Shape:\", features.shape)"
      ]
    },
    {
      "cell_type": "code",
      "source": [
        "scaler = StandardScaler()\n",
        "normalized_features = scaler.fit_transform(features)\n",
        "print(\"Mean of features after normalization (per feature):\", normalized_features.mean(axis=0)[:5])\n",
        "print(\"Std of features after normalization (per feature):\", normalized_features.std(axis=0)[:5])"
      ],
      "metadata": {
        "colab": {
          "base_uri": "https://localhost:8080/"
        },
        "id": "Vw6Zna7oqtyZ",
        "outputId": "19a7ad24-3116-4350-c93e-f704884a6cab"
      },
      "execution_count": null,
      "outputs": [
        {
          "output_type": "stream",
          "name": "stdout",
          "text": [
            "Mean of features after normalization (per feature): [-2.84060969e-18  4.80952084e-16  1.63324215e-16  6.29704622e-17\n",
            " -9.03682511e-18]\n",
            "Std of features after normalization (per feature): [1. 1. 1. 1. 1.]\n"
          ]
        }
      ]
    },
    {
      "cell_type": "code",
      "execution_count": null,
      "metadata": {
        "colab": {
          "base_uri": "https://localhost:8080/"
        },
        "id": "yUNSJ_l_L_Wg",
        "outputId": "f9e6327e-a716-43df-e10d-9dc00f72a152"
      },
      "outputs": [
        {
          "output_type": "stream",
          "name": "stdout",
          "text": [
            "Training Set Shape: (1024, 288) (1024, 4)\n",
            "Testing Set Shape: (256, 288) (256, 4)\n"
          ]
        }
      ],
      "source": [
        "X_train, X_test, y_train, y_test = train_test_split(normalized_features, labels, test_size=0.2, random_state=42)\n",
        "\n",
        "print(\"Training Set Shape:\", X_train.shape, y_train.shape)\n",
        "print(\"Testing Set Shape:\", X_test.shape, y_test.shape)"
      ]
    },
    {
      "cell_type": "code",
      "source": [
        "models = {\n",
        "    \"KNN\": KNeighborsClassifier(n_neighbors=7),\n",
        "    \"SVM\": SVC(kernel='rbf', C=1.0),\n",
        "    \"Decision Tree\": DecisionTreeClassifier(max_depth=10),\n",
        "    \"Random Forest\": RandomForestClassifier(n_estimators=100, max_depth=10, random_state=42),\n",
        "}"
      ],
      "metadata": {
        "id": "yDTgd8h1q8Mp"
      },
      "execution_count": null,
      "outputs": []
    },
    {
      "cell_type": "code",
      "execution_count": null,
      "metadata": {
        "colab": {
          "base_uri": "https://localhost:8080/"
        },
        "id": "zHD5xfObMFfb",
        "outputId": "b9ea2cc8-f99c-4d78-f01b-68a47b920591"
      },
      "outputs": [
        {
          "output_type": "stream",
          "name": "stdout",
          "text": [
            "Label Distribution in Training Set: [462 562]\n",
            "Label Distribution in Testing Set: [110 146]\n"
          ]
        }
      ],
      "source": [
        "label_index = 0\n",
        "binary_labels = (labels[:, label_index] > 5).astype(int)\n",
        "y_train, y_test = train_test_split(binary_labels, test_size=0.2, random_state=42)\n",
        "\n",
        "print(\"Label Distribution in Training Set:\", np.bincount(y_train))\n",
        "print(\"Label Distribution in Testing Set:\", np.bincount(y_test))"
      ]
    },
    {
      "cell_type": "code",
      "source": [
        "valence_train_accuracies = []\n",
        "valence_test_accuracies = []"
      ],
      "metadata": {
        "id": "qzAEoBtGsliR"
      },
      "execution_count": null,
      "outputs": []
    },
    {
      "cell_type": "code",
      "execution_count": null,
      "metadata": {
        "colab": {
          "base_uri": "https://localhost:8080/"
        },
        "id": "ucousSk-MORx",
        "outputId": "e255d9cd-f67a-4a11-c289-003a8233feb2"
      },
      "outputs": [
        {
          "output_type": "stream",
          "name": "stdout",
          "text": [
            "Valence Model:\n",
            "KNN - Training Accuracy: 0.713, Testing Accuracy: 0.562\n",
            "SVM - Training Accuracy: 0.646, Testing Accuracy: 0.566\n",
            "Decision Tree - Training Accuracy: 0.937, Testing Accuracy: 0.496\n",
            "Random Forest - Training Accuracy: 0.993, Testing Accuracy: 0.609\n"
          ]
        }
      ],
      "source": [
        "print(\"Valence Model:\")\n",
        "for name, model in models.items():\n",
        "    model.fit(X_train, y_train)\n",
        "    y_train_pred = model.predict(X_train)\n",
        "    y_test_pred = model.predict(X_test)\n",
        "    train_acc = accuracy_score(y_train, y_train_pred)\n",
        "    test_acc = accuracy_score(y_test, y_test_pred)\n",
        "    valence_train_accuracies.append(train_acc)\n",
        "    valence_test_accuracies.append(test_acc)\n",
        "    print(f\"{name} - Training Accuracy: {train_acc:.3f}, Testing Accuracy: {test_acc:.3f}\")"
      ]
    },
    {
      "cell_type": "code",
      "source": [
        "model_names = list(models.keys())\n",
        "bar_width = 0.2\n",
        "x = np.arange(len(model_names))"
      ],
      "metadata": {
        "id": "ncwc0rCssyPB"
      },
      "execution_count": null,
      "outputs": []
    },
    {
      "cell_type": "code",
      "source": [
        "plt.figure(figsize=(8, 6))\n",
        "plt.bar(x - bar_width / 2, valence_train_accuracies, bar_width, label='Training Accuracy', color='green', alpha=0.7)\n",
        "plt.bar(x + bar_width / 2, valence_test_accuracies, bar_width, label='Testing Accuracy', color='red', alpha=0.7)\n",
        "plt.xlabel('Model', fontsize=12)\n",
        "plt.ylabel('Accuracy', fontsize=12)\n",
        "plt.title('Training vs Testing Accuracy for Valence Models', fontsize=14)\n",
        "plt.xticks(x, model_names)\n",
        "plt.ylim(0, 1)\n",
        "plt.legend()\n",
        "plt.tight_layout()\n",
        "plt.show()"
      ],
      "metadata": {
        "colab": {
          "base_uri": "https://localhost:8080/",
          "height": 607
        },
        "id": "6L0PQPUUseXJ",
        "outputId": "ddf3ef68-577c-4389-ac7b-6d0856fa1634"
      },
      "execution_count": 66,
      "outputs": [
        {
          "output_type": "display_data",
          "data": {
            "text/plain": [
              "<Figure size 800x600 with 1 Axes>"
            ],
            "image/png": "[encoded data removed]"
          },
          "metadata": {}
        }
      ]
    },
    {
      "cell_type": "code",
      "source": [
        "label_index = 1\n",
        "binary_labels = (labels[:, label_index] > 5).astype(int)\n",
        "y_train, y_test = train_test_split(binary_labels, test_size=0.2, random_state=42)\n",
        "\n",
        "print(\"Label Distribution in Training Set:\", np.bincount(y_train))\n",
        "print(\"Label Distribution in Testing Set:\", np.bincount(y_test))"
      ],
      "metadata": {
        "colab": {
          "base_uri": "https://localhost:8080/"
        },
        "id": "c7vOrpM0nk29",
        "outputId": "0f996460-ef50-4b0d-854f-febaa146a2f0"
      },
      "execution_count": null,
      "outputs": [
        {
          "output_type": "stream",
          "name": "stdout",
          "text": [
            "Label Distribution in Training Set: [436 588]\n",
            "Label Distribution in Testing Set: [107 149]\n"
          ]
        }
      ]
    },
    {
      "cell_type": "code",
      "source": [
        "arousal_train_accuracies = []\n",
        "arousal_test_accuracies = []"
      ],
      "metadata": {
        "id": "N_1Zx60mtGCK"
      },
      "execution_count": null,
      "outputs": []
    },
    {
      "cell_type": "code",
      "source": [
        "print(\"Arousal Model:\")\n",
        "for name, model in models.items():\n",
        "    model.fit(X_train, y_train)\n",
        "    y_train_pred = model.predict(X_train)\n",
        "    y_test_pred = model.predict(X_test)\n",
        "    train_acc = accuracy_score(y_train, y_train_pred)\n",
        "    test_acc = accuracy_score(y_test, y_test_pred)\n",
        "    arousal_train_accuracies.append(train_acc)\n",
        "    arousal_test_accuracies.append(test_acc)\n",
        "    print(f\"{name} - Training Accuracy: {train_acc:.3f}, Testing Accuracy: {test_acc:.3f}\")"
      ],
      "metadata": {
        "colab": {
          "base_uri": "https://localhost:8080/"
        },
        "id": "AEmm0_NjrJaB",
        "outputId": "bf00ca19-8552-436d-fe66-027f51c71d04"
      },
      "execution_count": null,
      "outputs": [
        {
          "output_type": "stream",
          "name": "stdout",
          "text": [
            "Arousal Model:\n",
            "KNN - Training Accuracy: 0.712, Testing Accuracy: 0.594\n",
            "SVM - Training Accuracy: 0.683, Testing Accuracy: 0.586\n",
            "Decision Tree - Training Accuracy: 0.896, Testing Accuracy: 0.594\n",
            "Random Forest - Training Accuracy: 0.989, Testing Accuracy: 0.582\n"
          ]
        }
      ]
    },
    {
      "cell_type": "code",
      "source": [
        "model_names = list(models.keys())\n",
        "bar_width = 0.2\n",
        "x = np.arange(len(model_names))"
      ],
      "metadata": {
        "id": "h_ANfItgtZx5"
      },
      "execution_count": null,
      "outputs": []
    },
    {
      "cell_type": "code",
      "source": [
        "plt.figure(figsize=(8, 6))\n",
        "plt.bar(x - bar_width / 2, arousal_train_accuracies, bar_width, label='Training Accuracy', color='green', alpha=0.7)\n",
        "plt.bar(x + bar_width / 2, arousal_test_accuracies, bar_width, label='Testing Accuracy', color='red', alpha=0.7)\n",
        "plt.xlabel('Model', fontsize=12)\n",
        "plt.ylabel('Accuracy', fontsize=12)\n",
        "plt.title('Training vs Testing Accuracy for Arousal Models', fontsize=14)\n",
        "plt.xticks(x, model_names)\n",
        "plt.ylim(0, 1)\n",
        "plt.legend()\n",
        "plt.tight_layout()\n",
        "plt.show()"
      ],
      "metadata": {
        "colab": {
          "base_uri": "https://localhost:8080/",
          "height": 607
        },
        "id": "1a3ObLbwrLl_",
        "outputId": "226b76fe-a178-464b-d5fb-f57cc80140b2"
      },
      "execution_count": 65,
      "outputs": [
        {
          "output_type": "display_data",
          "data": {
            "text/plain": [
              "<Figure size 800x600 with 1 Axes>"
            ],
            "image/png": "[encoded data removed]"
          },
          "metadata": {}
        }
      ]
    },
    {
      "cell_type": "code",
      "source": [],
      "metadata": {
        "id": "ZuCD4Lpk0_TA"
      },
      "execution_count": null,
      "outputs": []
    }
  ],
  "metadata": {
    "colab": {
      "provenance": [],
      "gpuType": "T4"
    },
    "kernelspec": {
      "display_name": "Python 3",
      "name": "python3"
    },
    "language_info": {
      "name": "python"
    },
    "accelerator": "GPU"
  },
  "nbformat": 4,
  "nbformat_minor": 0
}