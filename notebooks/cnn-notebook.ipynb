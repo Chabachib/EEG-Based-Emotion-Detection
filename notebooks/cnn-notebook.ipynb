{
 "cells": [
  {
   "cell_type": "code",
   "execution_count": 2,
   "metadata": {
    "execution": {
     "iopub.execute_input": "2024-12-13T18:02:51.998800Z",
     "iopub.status.busy": "2024-12-13T18:02:51.998300Z",
     "iopub.status.idle": "2024-12-13T18:03:03.190853Z",
     "shell.execute_reply": "2024-12-13T18:03:03.189611Z",
     "shell.execute_reply.started": "2024-12-13T18:02:51.998745Z"
    },
    "trusted": true
   },
   "outputs": [],
   "source": [
    "!pip install -q git+https://github.com/forrestbao/pyeeg.git"
   ]
  },
  {
   "cell_type": "markdown",
   "metadata": {},
   "source": [
    "## Python Packages"
   ]
  },
  {
   "cell_type": "code",
   "execution_count": 3,
   "metadata": {
    "execution": {
     "iopub.execute_input": "2024-12-13T18:03:03.193659Z",
     "iopub.status.busy": "2024-12-13T18:03:03.193170Z",
     "iopub.status.idle": "2024-12-13T18:03:07.233914Z",
     "shell.execute_reply": "2024-12-13T18:03:07.232899Z",
     "shell.execute_reply.started": "2024-12-13T18:03:03.193606Z"
    },
    "trusted": true
   },
   "outputs": [],
   "source": [
    "import os\n",
    "import time\n",
    "import math\n",
    "import keras\n",
    "import timeit\n",
    "import warnings\n",
    "import csv\n",
    "\n",
    "import numpy as np\n",
    "import pyeeg as pe\n",
    "import pickle as pickle\n",
    "import pandas as pd\n",
    "import keras.backend as K\n",
    "import matplotlib.pyplot as plt\n",
    "\n",
    "from sklearn.preprocessing import StandardScaler, normalize\n",
    "from tensorflow.keras.callbacks import Callback\n",
    "from keras.models import Sequential, Model\n",
    "from keras.regularizers import l2\n",
    "from keras.optimizers import SGD\n",
    "from keras.layers import (\n",
    "    Dense, Conv1D, MaxPooling1D, \n",
    "    Conv2D, MaxPooling2D, Dropout,\n",
    "    Flatten, Convolution1D, ZeroPadding1D,\n",
    "    BatchNormalization, Activation,\n",
    ")"
   ]
  },
  {
   "cell_type": "code",
   "execution_count": 4,
   "metadata": {
    "execution": {
     "iopub.execute_input": "2024-12-13T18:03:07.235727Z",
     "iopub.status.busy": "2024-12-13T18:03:07.235140Z",
     "iopub.status.idle": "2024-12-13T18:03:07.240757Z",
     "shell.execute_reply": "2024-12-13T18:03:07.239745Z",
     "shell.execute_reply.started": "2024-12-13T18:03:07.235695Z"
    },
    "trusted": true
   },
   "outputs": [],
   "source": [
    "warnings.filterwarnings('ignore')"
   ]
  },
  {
   "cell_type": "code",
   "execution_count": 5,
   "metadata": {
    "execution": {
     "iopub.execute_input": "2024-12-13T18:03:07.242397Z",
     "iopub.status.busy": "2024-12-13T18:03:07.241964Z",
     "iopub.status.idle": "2024-12-13T18:03:07.257873Z",
     "shell.execute_reply": "2024-12-13T18:03:07.256836Z",
     "shell.execute_reply.started": "2024-12-13T18:03:07.242365Z"
    },
    "trusted": true
   },
   "outputs": [],
   "source": [
    "keras.utils.set_random_seed(0)"
   ]
  },
  {
   "cell_type": "code",
   "execution_count": 6,
   "metadata": {
    "execution": {
     "iopub.execute_input": "2024-12-13T18:03:07.262072Z",
     "iopub.status.busy": "2024-12-13T18:03:07.261298Z",
     "iopub.status.idle": "2024-12-13T18:03:13.006900Z",
     "shell.execute_reply": "2024-12-13T18:03:13.005622Z",
     "shell.execute_reply.started": "2024-12-13T18:03:07.262022Z"
    },
    "trusted": true
   },
   "outputs": [],
   "source": [
    "!mkdir /kaggle/working/data/\n",
    "!mkdir /kaggle/working/data/data_training\n",
    "!mkdir /kaggle/working/data/label_training\n",
    "!mkdir /kaggle/working/data/data_testing\n",
    "!mkdir /kaggle/working/data/label_testing"
   ]
  },
  {
   "cell_type": "markdown",
   "metadata": {},
   "source": [
    "## Signal Parameters"
   ]
  },
  {
   "cell_type": "code",
   "execution_count": 7,
   "metadata": {
    "execution": {
     "iopub.execute_input": "2024-12-13T18:03:13.008956Z",
     "iopub.status.busy": "2024-12-13T18:03:13.008621Z",
     "iopub.status.idle": "2024-12-13T18:03:13.016001Z",
     "shell.execute_reply": "2024-12-13T18:03:13.014787Z",
     "shell.execute_reply.started": "2024-12-13T18:03:13.008924Z"
    },
    "trusted": true
   },
   "outputs": [],
   "source": [
    "channel = [1,2,3,4,6,11,13,17,19,20,21,25,29,31] #14 Channels chosen\n",
    "band = [4,8,12,16,25,45] #5 bands (Delta/Theta/Alpha/Beta/Gamma)\n",
    "window_size = 256 #Averaging band power of 2 sec\n",
    "step_size = 16 #Each 0.125 sec update once\n",
    "sample_rate = 128 #Sampling rate of 128 Hz\n",
    "subjectList = ['01','02','03', '04', '05', '06'] #List of subjects"
   ]
  },
  {
   "cell_type": "markdown",
   "metadata": {},
   "source": [
    "## Signal Processing"
   ]
  },
  {
   "cell_type": "code",
   "execution_count": 8,
   "metadata": {
    "execution": {
     "iopub.execute_input": "2024-12-13T18:03:13.017708Z",
     "iopub.status.busy": "2024-12-13T18:03:13.017391Z",
     "iopub.status.idle": "2024-12-13T18:03:13.035233Z",
     "shell.execute_reply": "2024-12-13T18:03:13.034054Z",
     "shell.execute_reply.started": "2024-12-13T18:03:13.017678Z"
    },
    "trusted": true
   },
   "outputs": [],
   "source": [
    "def FFT_Processing (sub, channel, band, window_size, step_size, sample_rate): # Fast Fourier Transform = FFT\n",
    "    '''\n",
    "    arguments:  string subject\n",
    "                list channel indice\n",
    "                list band\n",
    "                int window size for FFT\n",
    "                int step size for FFT\n",
    "                int sample rate for FFT\n",
    "    return:     void\n",
    "    '''\n",
    "    meta = []\n",
    "    with open(\"/kaggle/input/deap-dataset/data_preprocessed_python/s\" + sub + '.dat', 'rb') as file:\n",
    "\n",
    "        subject = pickle.load(file, encoding='latin1') #resolve the python 2 data problem by encoding : latin1\n",
    "\n",
    "        for i in range (0,40):\n",
    "            # loop over 0-39 trails\n",
    "            data = subject[\"data\"][i]\n",
    "            labels = subject[\"labels\"][i]\n",
    "            start = 0;\n",
    "\n",
    "            while start + window_size < data.shape[1]:\n",
    "                meta_array = []\n",
    "                meta_data = [] #meta vector for analysis\n",
    "                for j in channel:\n",
    "                    X = data[j][start : start + window_size] #Slice raw data over 2 sec, at interval of 0.125 sec\n",
    "                    Y = pe.bin_power(X, band, sample_rate) #FFT over 2 sec of channel j, in seq of theta, alpha, low beta, high beta, gamma\n",
    "                    meta_data = meta_data + list(Y[0])\n",
    "\n",
    "                meta_array.append(np.array(meta_data))\n",
    "                meta_array.append(labels)\n",
    "\n",
    "                meta.append(np.array(meta_array, dtype=object))    \n",
    "                start = start + step_size\n",
    "                \n",
    "        meta = np.array(meta)\n",
    "        np.save('/kaggle/working/data/s' + sub, meta, allow_pickle=True, fix_imports=True)"
   ]
  },
  {
   "cell_type": "code",
   "execution_count": 9,
   "metadata": {
    "execution": {
     "iopub.execute_input": "2024-12-13T18:03:13.036839Z",
     "iopub.status.busy": "2024-12-13T18:03:13.036532Z",
     "iopub.status.idle": "2024-12-13T18:04:31.276087Z",
     "shell.execute_reply": "2024-12-13T18:04:31.274953Z",
     "shell.execute_reply.started": "2024-12-13T18:03:13.036809Z"
    },
    "trusted": true
   },
   "outputs": [],
   "source": [
    "for subjects in subjectList:\n",
    "    FFT_Processing (subjects, channel, band, window_size, step_size, sample_rate)"
   ]
  },
  {
   "cell_type": "code",
   "execution_count": 10,
   "metadata": {
    "execution": {
     "iopub.execute_input": "2024-12-13T18:04:31.277696Z",
     "iopub.status.busy": "2024-12-13T18:04:31.277400Z",
     "iopub.status.idle": "2024-12-13T18:04:31.754746Z",
     "shell.execute_reply": "2024-12-13T18:04:31.753872Z",
     "shell.execute_reply.started": "2024-12-13T18:04:31.277668Z"
    },
    "trusted": true
   },
   "outputs": [],
   "source": [
    "data_training = []\n",
    "label_training = []\n",
    "data_testing = []\n",
    "label_testing = []\n",
    "\n",
    "for subjects in subjectList:\n",
    "    with open('/kaggle/working/data/s' + subjects + '.npy', 'rb') as file:\n",
    "        sub = np.load(file,allow_pickle=True)\n",
    "        for i in range (0,sub.shape[0]):\n",
    "            if i % 4 == 0:\n",
    "                data_testing.append(sub[i][0])\n",
    "                label_testing.append(sub[i][1])\n",
    "            else:\n",
    "                data_training.append(sub[i][0])\n",
    "                label_training.append(sub[i][1])"
   ]
  },
  {
   "cell_type": "code",
   "execution_count": 11,
   "metadata": {
    "execution": {
     "iopub.execute_input": "2024-12-13T18:04:31.756303Z",
     "iopub.status.busy": "2024-12-13T18:04:31.755986Z",
     "iopub.status.idle": "2024-12-13T18:04:32.099792Z",
     "shell.execute_reply": "2024-12-13T18:04:32.098739Z",
     "shell.execute_reply.started": "2024-12-13T18:04:31.756250Z"
    },
    "trusted": true
   },
   "outputs": [
    {
     "name": "stdout",
     "output_type": "stream",
     "text": [
      "training dataset: (87840, 70) (87840, 4)\n",
      "testing dataset: (29280, 70) (29280, 4)\n"
     ]
    }
   ],
   "source": [
    "np.save('/kaggle/working/data/data_training', np.array(data_training), allow_pickle=True, fix_imports=True)\n",
    "np.save('/kaggle/working/data/label_training', np.array(label_training), allow_pickle=True, fix_imports=True)\n",
    "print(\"training dataset:\", np.array(data_training).shape, np.array(label_training).shape)\n",
    "\n",
    "np.save('/kaggle/working/data/data_testing', np.array(data_testing), allow_pickle=True, fix_imports=True)\n",
    "np.save('/kaggle/working/data/label_testing', np.array(label_testing), allow_pickle=True, fix_imports=True)\n",
    "print(\"testing dataset:\", np.array(data_testing).shape, np.array(label_testing).shape)"
   ]
  },
  {
   "cell_type": "code",
   "execution_count": 12,
   "metadata": {
    "execution": {
     "iopub.execute_input": "2024-12-13T18:04:32.102074Z",
     "iopub.status.busy": "2024-12-13T18:04:32.101636Z",
     "iopub.status.idle": "2024-12-13T18:04:32.183305Z",
     "shell.execute_reply": "2024-12-13T18:04:32.182059Z",
     "shell.execute_reply.started": "2024-12-13T18:04:32.102029Z"
    },
    "trusted": true
   },
   "outputs": [],
   "source": [
    "with open('/kaggle/working/data/data_training.npy', 'rb') as fileTrain:\n",
    "    X  = np.load(fileTrain)\n",
    "    \n",
    "with open('/kaggle/working/data/label_training.npy', 'rb') as fileTrainL:\n",
    "    Y  = np.load(fileTrainL)\n",
    "    \n",
    "X = normalize(X)\n",
    "Z = np.ravel(Y[:, [3]])\n",
    "\n",
    "Arousal_Train = np.ravel(Y[:, [0]])\n",
    "Valence_Train = np.ravel(Y[:, [1]])\n",
    "Domain_Train = np.ravel(Y[:, [2]])\n",
    "Like_Train = np.ravel(Y[:, [3]])"
   ]
  },
  {
   "cell_type": "code",
   "execution_count": 13,
   "metadata": {
    "execution": {
     "iopub.execute_input": "2024-12-13T18:04:32.185250Z",
     "iopub.status.busy": "2024-12-13T18:04:32.184796Z",
     "iopub.status.idle": "2024-12-13T18:04:32.195631Z",
     "shell.execute_reply": "2024-12-13T18:04:32.193470Z",
     "shell.execute_reply.started": "2024-12-13T18:04:32.185202Z"
    },
    "trusted": true
   },
   "outputs": [],
   "source": [
    "# Arousal and Valence\n",
    "Z_arousal = np.ravel(Y[:, [0]])\n",
    "Z_valence = np.ravel(Y[:, [1]])\n",
    "\n",
    "Z_arousal_masked = (Z_arousal > 6.5).astype(int)\n",
    "Z_valence_masked = (Z_valence > 6.5).astype(int)"
   ]
  },
  {
   "cell_type": "code",
   "execution_count": 14,
   "metadata": {
    "execution": {
     "iopub.execute_input": "2024-12-13T18:04:32.198983Z",
     "iopub.status.busy": "2024-12-13T18:04:32.198111Z",
     "iopub.status.idle": "2024-12-13T18:04:32.210727Z",
     "shell.execute_reply": "2024-12-13T18:04:32.209622Z",
     "shell.execute_reply.started": "2024-12-13T18:04:32.198930Z"
    },
    "trusted": true
   },
   "outputs": [
    {
     "data": {
      "text/plain": [
       "(87840, 2)"
      ]
     },
     "execution_count": 14,
     "metadata": {},
     "output_type": "execute_result"
    }
   ],
   "source": [
    "y_train = np.array([Z_arousal_masked, Z_valence_masked]).T\n",
    "y_train.shape"
   ]
  },
  {
   "cell_type": "code",
   "execution_count": 15,
   "metadata": {
    "execution": {
     "iopub.execute_input": "2024-12-13T18:04:32.215000Z",
     "iopub.status.busy": "2024-12-13T18:04:32.214654Z",
     "iopub.status.idle": "2024-12-13T18:04:32.221543Z",
     "shell.execute_reply": "2024-12-13T18:04:32.220543Z",
     "shell.execute_reply.started": "2024-12-13T18:04:32.214971Z"
    },
    "trusted": true
   },
   "outputs": [
    {
     "data": {
      "text/plain": [
       "(87840, 70)"
      ]
     },
     "execution_count": 15,
     "metadata": {},
     "output_type": "execute_result"
    }
   ],
   "source": [
    "X.shape"
   ]
  },
  {
   "cell_type": "code",
   "execution_count": 16,
   "metadata": {
    "execution": {
     "iopub.execute_input": "2024-12-13T18:04:32.223761Z",
     "iopub.status.busy": "2024-12-13T18:04:32.222970Z",
     "iopub.status.idle": "2024-12-13T18:04:32.252548Z",
     "shell.execute_reply": "2024-12-13T18:04:32.251629Z",
     "shell.execute_reply.started": "2024-12-13T18:04:32.223713Z"
    },
    "trusted": true
   },
   "outputs": [],
   "source": [
    "x_train = np.array(X[:])"
   ]
  },
  {
   "cell_type": "code",
   "execution_count": 17,
   "metadata": {
    "execution": {
     "iopub.execute_input": "2024-12-13T18:04:32.254026Z",
     "iopub.status.busy": "2024-12-13T18:04:32.253717Z",
     "iopub.status.idle": "2024-12-13T18:04:32.283691Z",
     "shell.execute_reply": "2024-12-13T18:04:32.282577Z",
     "shell.execute_reply.started": "2024-12-13T18:04:32.253997Z"
    },
    "trusted": true
   },
   "outputs": [],
   "source": [
    "with open('/kaggle/working/data/data_testing.npy', 'rb') as fileTrain:\n",
    "    M  = np.load(fileTrain)\n",
    "    \n",
    "with open('/kaggle/working/data/label_testing.npy', 'rb') as fileTrainL:\n",
    "    N  = np.load(fileTrainL)\n",
    "\n",
    "M = normalize(M)\n",
    "L = np.ravel(N[:, [3]])\n",
    "\n",
    "Arousal_Test = np.ravel(N[:, [0]])\n",
    "Valence_Test = np.ravel(N[:, [1]])\n",
    "Domain_Test = np.ravel(N[:, [2]])\n",
    "Like_Test = np.ravel(N[:, [3]])"
   ]
  },
  {
   "cell_type": "code",
   "execution_count": 18,
   "metadata": {
    "execution": {
     "iopub.execute_input": "2024-12-13T18:04:32.285404Z",
     "iopub.status.busy": "2024-12-13T18:04:32.284962Z",
     "iopub.status.idle": "2024-12-13T18:04:32.293684Z",
     "shell.execute_reply": "2024-12-13T18:04:32.292135Z",
     "shell.execute_reply.started": "2024-12-13T18:04:32.285359Z"
    },
    "trusted": true
   },
   "outputs": [],
   "source": [
    "# Arousal and Valence\n",
    "L_arousal = np.ravel(N[:, [0]])\n",
    "L_valence = np.ravel(N[:, [1]])\n",
    "\n",
    "L_arousal_masked = (L_arousal > 6.5).astype(int)\n",
    "L_valence_masked = (L_valence > 6.5).astype(int)"
   ]
  },
  {
   "cell_type": "code",
   "execution_count": 19,
   "metadata": {
    "execution": {
     "iopub.execute_input": "2024-12-13T18:04:32.295267Z",
     "iopub.status.busy": "2024-12-13T18:04:32.294881Z",
     "iopub.status.idle": "2024-12-13T18:04:32.309499Z",
     "shell.execute_reply": "2024-12-13T18:04:32.308103Z",
     "shell.execute_reply.started": "2024-12-13T18:04:32.295230Z"
    },
    "trusted": true
   },
   "outputs": [
    {
     "data": {
      "text/plain": [
       "(29280, 2)"
      ]
     },
     "execution_count": 19,
     "metadata": {},
     "output_type": "execute_result"
    }
   ],
   "source": [
    "y_test = np.array([L_arousal_masked, L_valence_masked]).T\n",
    "y_test.shape"
   ]
  },
  {
   "cell_type": "code",
   "execution_count": 20,
   "metadata": {
    "execution": {
     "iopub.execute_input": "2024-12-13T18:04:32.311231Z",
     "iopub.status.busy": "2024-12-13T18:04:32.310862Z",
     "iopub.status.idle": "2024-12-13T18:04:32.328029Z",
     "shell.execute_reply": "2024-12-13T18:04:32.326712Z",
     "shell.execute_reply.started": "2024-12-13T18:04:32.311198Z"
    },
    "trusted": true
   },
   "outputs": [],
   "source": [
    "x_test = np.array(M[:])"
   ]
  },
  {
   "cell_type": "markdown",
   "metadata": {},
   "source": [
    "## Feature Scaling"
   ]
  },
  {
   "cell_type": "code",
   "execution_count": 21,
   "metadata": {
    "execution": {
     "iopub.execute_input": "2024-12-13T18:04:32.330077Z",
     "iopub.status.busy": "2024-12-13T18:04:32.329726Z",
     "iopub.status.idle": "2024-12-13T18:04:32.469845Z",
     "shell.execute_reply": "2024-12-13T18:04:32.468690Z",
     "shell.execute_reply.started": "2024-12-13T18:04:32.330044Z"
    },
    "trusted": true
   },
   "outputs": [],
   "source": [
    "scaler = StandardScaler()\n",
    "x_train = scaler.fit_transform(x_train)\n",
    "x_test = scaler.fit_transform(x_test)"
   ]
  },
  {
   "cell_type": "code",
   "execution_count": 22,
   "metadata": {
    "execution": {
     "iopub.execute_input": "2024-12-13T18:04:32.471555Z",
     "iopub.status.busy": "2024-12-13T18:04:32.471192Z",
     "iopub.status.idle": "2024-12-13T18:04:32.476867Z",
     "shell.execute_reply": "2024-12-13T18:04:32.475696Z",
     "shell.execute_reply.started": "2024-12-13T18:04:32.471521Z"
    },
    "trusted": true
   },
   "outputs": [],
   "source": [
    "x_train = x_train.reshape(x_train.shape[0],x_train.shape[1], 1)\n",
    "x_test = x_test.reshape(x_test.shape[0],x_test.shape[1], 1)"
   ]
  },
  {
   "cell_type": "code",
   "execution_count": 23,
   "metadata": {
    "execution": {
     "iopub.execute_input": "2024-12-13T18:04:32.478486Z",
     "iopub.status.busy": "2024-12-13T18:04:32.478088Z",
     "iopub.status.idle": "2024-12-13T18:04:32.490658Z",
     "shell.execute_reply": "2024-12-13T18:04:32.489475Z",
     "shell.execute_reply.started": "2024-12-13T18:04:32.478430Z"
    },
    "trusted": true
   },
   "outputs": [
    {
     "data": {
      "text/plain": [
       "(87840, 70, 1)"
      ]
     },
     "execution_count": 23,
     "metadata": {},
     "output_type": "execute_result"
    }
   ],
   "source": [
    "x_train.shape"
   ]
  },
  {
   "cell_type": "code",
   "execution_count": 24,
   "metadata": {
    "execution": {
     "iopub.execute_input": "2024-12-13T18:04:32.492425Z",
     "iopub.status.busy": "2024-12-13T18:04:32.492074Z",
     "iopub.status.idle": "2024-12-13T18:04:32.503784Z",
     "shell.execute_reply": "2024-12-13T18:04:32.502868Z",
     "shell.execute_reply.started": "2024-12-13T18:04:32.492394Z"
    },
    "trusted": true
   },
   "outputs": [],
   "source": [
    "batch_size = 256\n",
    "num_classes = 2\n",
    "epochs = 200\n",
    "input_shape=(x_train.shape[1], 1)"
   ]
  },
  {
   "cell_type": "code",
   "execution_count": 25,
   "metadata": {
    "execution": {
     "iopub.execute_input": "2024-12-13T18:04:32.505118Z",
     "iopub.status.busy": "2024-12-13T18:04:32.504822Z",
     "iopub.status.idle": "2024-12-13T18:04:32.516902Z",
     "shell.execute_reply": "2024-12-13T18:04:32.515764Z",
     "shell.execute_reply.started": "2024-12-13T18:04:32.505073Z"
    },
    "trusted": true
   },
   "outputs": [
    {
     "data": {
      "text/plain": [
       "(70, 1)"
      ]
     },
     "execution_count": 25,
     "metadata": {},
     "output_type": "execute_result"
    }
   ],
   "source": [
    "input_shape"
   ]
  },
  {
   "cell_type": "markdown",
   "metadata": {},
   "source": [
    "## Model Logs"
   ]
  },
  {
   "cell_type": "code",
   "execution_count": 26,
   "metadata": {
    "execution": {
     "iopub.execute_input": "2024-12-13T18:04:32.518395Z",
     "iopub.status.busy": "2024-12-13T18:04:32.518018Z",
     "iopub.status.idle": "2024-12-13T18:04:32.530958Z",
     "shell.execute_reply": "2024-12-13T18:04:32.529857Z",
     "shell.execute_reply.started": "2024-12-13T18:04:32.518364Z"
    },
    "trusted": true
   },
   "outputs": [],
   "source": [
    "csv_file = \"cnn_model_log.csv\" # This file will be used to save the model's evolution"
   ]
  },
  {
   "cell_type": "code",
   "execution_count": 27,
   "metadata": {
    "execution": {
     "iopub.execute_input": "2024-12-13T18:04:32.532700Z",
     "iopub.status.busy": "2024-12-13T18:04:32.532361Z",
     "iopub.status.idle": "2024-12-13T18:04:32.544469Z",
     "shell.execute_reply": "2024-12-13T18:04:32.543348Z",
     "shell.execute_reply.started": "2024-12-13T18:04:32.532669Z"
    },
    "trusted": true
   },
   "outputs": [],
   "source": [
    "headers = [\"epoch\", \"loss\", \"accuracy\", \"val_loss\", \"val_accuracy\"]"
   ]
  },
  {
   "cell_type": "code",
   "execution_count": 28,
   "metadata": {
    "execution": {
     "iopub.execute_input": "2024-12-13T18:04:32.546124Z",
     "iopub.status.busy": "2024-12-13T18:04:32.545760Z",
     "iopub.status.idle": "2024-12-13T18:04:32.556109Z",
     "shell.execute_reply": "2024-12-13T18:04:32.555084Z",
     "shell.execute_reply.started": "2024-12-13T18:04:32.546092Z"
    },
    "trusted": true
   },
   "outputs": [],
   "source": [
    "with open(csv_file, mode=\"w\", newline=\"\") as file:\n",
    "    writer = csv.writer(file)\n",
    "    writer.writerow(headers)"
   ]
  },
  {
   "cell_type": "code",
   "execution_count": 29,
   "metadata": {
    "execution": {
     "iopub.execute_input": "2024-12-13T18:04:32.557758Z",
     "iopub.status.busy": "2024-12-13T18:04:32.557396Z",
     "iopub.status.idle": "2024-12-13T18:04:32.569099Z",
     "shell.execute_reply": "2024-12-13T18:04:32.568025Z",
     "shell.execute_reply.started": "2024-12-13T18:04:32.557725Z"
    },
    "trusted": true
   },
   "outputs": [],
   "source": [
    "class CSVLoggerCallback(Callback):\n",
    "    def on_epoch_end(self, epoch, logs=None):\n",
    "        # Append metrics to the CSV file at the end of each epoch\n",
    "        with open(csv_file, mode=\"a\", newline=\"\") as file:\n",
    "            writer = csv.writer(file)\n",
    "            writer.writerow([\n",
    "                epoch + 1,  # Epoch index starts from 0, so add 1 for readability\n",
    "                logs[\"loss\"],\n",
    "                logs[\"accuracy\"],\n",
    "                logs[\"val_loss\"],\n",
    "                logs[\"val_accuracy\"]\n",
    "            ])"
   ]
  },
  {
   "cell_type": "markdown",
   "metadata": {},
   "source": [
    "## Model Training"
   ]
  },
  {
   "cell_type": "code",
   "execution_count": 30,
   "metadata": {
    "execution": {
     "iopub.execute_input": "2024-12-13T18:04:32.570852Z",
     "iopub.status.busy": "2024-12-13T18:04:32.570441Z",
     "iopub.status.idle": "2024-12-13T18:04:33.278360Z",
     "shell.execute_reply": "2024-12-13T18:04:33.277177Z",
     "shell.execute_reply.started": "2024-12-13T18:04:32.570814Z"
    },
    "trusted": true
   },
   "outputs": [],
   "source": [
    "model = Sequential([\n",
    "    Conv1D(128, kernel_size=3, padding='same', activation='relu', input_shape=(x_train.shape[1], 1)),\n",
    "    BatchNormalization(),\n",
    "    MaxPooling1D(pool_size=2),\n",
    "    Conv1D(128, kernel_size=3, padding='same', activation='relu'),\n",
    "    BatchNormalization(),\n",
    "    MaxPooling1D(pool_size=2),\n",
    "    Conv1D(64, kernel_size=3, padding='same', activation='relu'),\n",
    "    MaxPooling1D(pool_size=2),\n",
    "    Flatten(),\n",
    "    Dense(64, activation='tanh'),\n",
    "    Dropout(0.2),\n",
    "    Dense(32, activation='tanh'),\n",
    "    Dropout(0.2),\n",
    "    Dense(16, activation='relu'),\n",
    "    Dropout(0.2),\n",
    "    Dense(num_classes, activation='sigmoid')\n",
    "])"
   ]
  },
  {
   "cell_type": "code",
   "execution_count": 31,
   "metadata": {
    "execution": {
     "iopub.execute_input": "2024-12-13T18:04:33.280268Z",
     "iopub.status.busy": "2024-12-13T18:04:33.279828Z",
     "iopub.status.idle": "2024-12-13T18:04:33.311835Z",
     "shell.execute_reply": "2024-12-13T18:04:33.310787Z",
     "shell.execute_reply.started": "2024-12-13T18:04:33.280220Z"
    },
    "trusted": true
   },
   "outputs": [
    {
     "data": {
      "text/html": [
       "<pre style=\"white-space:pre;overflow-x:auto;line-height:normal;font-family:Menlo,'DejaVu Sans Mono',consolas,'Courier New',monospace\"><span style=\"font-weight: bold\">Model: \"sequential\"</span>\n",
       "</pre>\n"
      ],
      "text/plain": [
       "\u001b[1mModel: \"sequential\"\u001b[0m\n"
      ]
     },
     "metadata": {},
     "output_type": "display_data"
    },
    {
     "data": {
      "text/html": [
       "<pre style=\"white-space:pre;overflow-x:auto;line-height:normal;font-family:Menlo,'DejaVu Sans Mono',consolas,'Courier New',monospace\">┏━━━━━━━━━━━━━━━━━━━━━━━━━━━━━━━━━┳━━━━━━━━━━━━━━━━━━━━━━━━┳━━━━━━━━━━━━━━━┓\n",
       "┃<span style=\"font-weight: bold\"> Layer (type)                    </span>┃<span style=\"font-weight: bold\"> Output Shape           </span>┃<span style=\"font-weight: bold\">       Param # </span>┃\n",
       "┡━━━━━━━━━━━━━━━━━━━━━━━━━━━━━━━━━╇━━━━━━━━━━━━━━━━━━━━━━━━╇━━━━━━━━━━━━━━━┩\n",
       "│ conv1d (<span style=\"color: #0087ff; text-decoration-color: #0087ff\">Conv1D</span>)                 │ (<span style=\"color: #00d7ff; text-decoration-color: #00d7ff\">None</span>, <span style=\"color: #00af00; text-decoration-color: #00af00\">70</span>, <span style=\"color: #00af00; text-decoration-color: #00af00\">128</span>)        │           <span style=\"color: #00af00; text-decoration-color: #00af00\">512</span> │\n",
       "├─────────────────────────────────┼────────────────────────┼───────────────┤\n",
       "│ batch_normalization             │ (<span style=\"color: #00d7ff; text-decoration-color: #00d7ff\">None</span>, <span style=\"color: #00af00; text-decoration-color: #00af00\">70</span>, <span style=\"color: #00af00; text-decoration-color: #00af00\">128</span>)        │           <span style=\"color: #00af00; text-decoration-color: #00af00\">512</span> │\n",
       "│ (<span style=\"color: #0087ff; text-decoration-color: #0087ff\">BatchNormalization</span>)            │                        │               │\n",
       "├─────────────────────────────────┼────────────────────────┼───────────────┤\n",
       "│ max_pooling1d (<span style=\"color: #0087ff; text-decoration-color: #0087ff\">MaxPooling1D</span>)    │ (<span style=\"color: #00d7ff; text-decoration-color: #00d7ff\">None</span>, <span style=\"color: #00af00; text-decoration-color: #00af00\">35</span>, <span style=\"color: #00af00; text-decoration-color: #00af00\">128</span>)        │             <span style=\"color: #00af00; text-decoration-color: #00af00\">0</span> │\n",
       "├─────────────────────────────────┼────────────────────────┼───────────────┤\n",
       "│ conv1d_1 (<span style=\"color: #0087ff; text-decoration-color: #0087ff\">Conv1D</span>)               │ (<span style=\"color: #00d7ff; text-decoration-color: #00d7ff\">None</span>, <span style=\"color: #00af00; text-decoration-color: #00af00\">35</span>, <span style=\"color: #00af00; text-decoration-color: #00af00\">128</span>)        │        <span style=\"color: #00af00; text-decoration-color: #00af00\">49,280</span> │\n",
       "├─────────────────────────────────┼────────────────────────┼───────────────┤\n",
       "│ batch_normalization_1           │ (<span style=\"color: #00d7ff; text-decoration-color: #00d7ff\">None</span>, <span style=\"color: #00af00; text-decoration-color: #00af00\">35</span>, <span style=\"color: #00af00; text-decoration-color: #00af00\">128</span>)        │           <span style=\"color: #00af00; text-decoration-color: #00af00\">512</span> │\n",
       "│ (<span style=\"color: #0087ff; text-decoration-color: #0087ff\">BatchNormalization</span>)            │                        │               │\n",
       "├─────────────────────────────────┼────────────────────────┼───────────────┤\n",
       "│ max_pooling1d_1 (<span style=\"color: #0087ff; text-decoration-color: #0087ff\">MaxPooling1D</span>)  │ (<span style=\"color: #00d7ff; text-decoration-color: #00d7ff\">None</span>, <span style=\"color: #00af00; text-decoration-color: #00af00\">17</span>, <span style=\"color: #00af00; text-decoration-color: #00af00\">128</span>)        │             <span style=\"color: #00af00; text-decoration-color: #00af00\">0</span> │\n",
       "├─────────────────────────────────┼────────────────────────┼───────────────┤\n",
       "│ conv1d_2 (<span style=\"color: #0087ff; text-decoration-color: #0087ff\">Conv1D</span>)               │ (<span style=\"color: #00d7ff; text-decoration-color: #00d7ff\">None</span>, <span style=\"color: #00af00; text-decoration-color: #00af00\">17</span>, <span style=\"color: #00af00; text-decoration-color: #00af00\">64</span>)         │        <span style=\"color: #00af00; text-decoration-color: #00af00\">24,640</span> │\n",
       "├─────────────────────────────────┼────────────────────────┼───────────────┤\n",
       "│ max_pooling1d_2 (<span style=\"color: #0087ff; text-decoration-color: #0087ff\">MaxPooling1D</span>)  │ (<span style=\"color: #00d7ff; text-decoration-color: #00d7ff\">None</span>, <span style=\"color: #00af00; text-decoration-color: #00af00\">8</span>, <span style=\"color: #00af00; text-decoration-color: #00af00\">64</span>)          │             <span style=\"color: #00af00; text-decoration-color: #00af00\">0</span> │\n",
       "├─────────────────────────────────┼────────────────────────┼───────────────┤\n",
       "│ flatten (<span style=\"color: #0087ff; text-decoration-color: #0087ff\">Flatten</span>)               │ (<span style=\"color: #00d7ff; text-decoration-color: #00d7ff\">None</span>, <span style=\"color: #00af00; text-decoration-color: #00af00\">512</span>)            │             <span style=\"color: #00af00; text-decoration-color: #00af00\">0</span> │\n",
       "├─────────────────────────────────┼────────────────────────┼───────────────┤\n",
       "│ dense (<span style=\"color: #0087ff; text-decoration-color: #0087ff\">Dense</span>)                   │ (<span style=\"color: #00d7ff; text-decoration-color: #00d7ff\">None</span>, <span style=\"color: #00af00; text-decoration-color: #00af00\">64</span>)             │        <span style=\"color: #00af00; text-decoration-color: #00af00\">32,832</span> │\n",
       "├─────────────────────────────────┼────────────────────────┼───────────────┤\n",
       "│ dropout (<span style=\"color: #0087ff; text-decoration-color: #0087ff\">Dropout</span>)               │ (<span style=\"color: #00d7ff; text-decoration-color: #00d7ff\">None</span>, <span style=\"color: #00af00; text-decoration-color: #00af00\">64</span>)             │             <span style=\"color: #00af00; text-decoration-color: #00af00\">0</span> │\n",
       "├─────────────────────────────────┼────────────────────────┼───────────────┤\n",
       "│ dense_1 (<span style=\"color: #0087ff; text-decoration-color: #0087ff\">Dense</span>)                 │ (<span style=\"color: #00d7ff; text-decoration-color: #00d7ff\">None</span>, <span style=\"color: #00af00; text-decoration-color: #00af00\">32</span>)             │         <span style=\"color: #00af00; text-decoration-color: #00af00\">2,080</span> │\n",
       "├─────────────────────────────────┼────────────────────────┼───────────────┤\n",
       "│ dropout_1 (<span style=\"color: #0087ff; text-decoration-color: #0087ff\">Dropout</span>)             │ (<span style=\"color: #00d7ff; text-decoration-color: #00d7ff\">None</span>, <span style=\"color: #00af00; text-decoration-color: #00af00\">32</span>)             │             <span style=\"color: #00af00; text-decoration-color: #00af00\">0</span> │\n",
       "├─────────────────────────────────┼────────────────────────┼───────────────┤\n",
       "│ dense_2 (<span style=\"color: #0087ff; text-decoration-color: #0087ff\">Dense</span>)                 │ (<span style=\"color: #00d7ff; text-decoration-color: #00d7ff\">None</span>, <span style=\"color: #00af00; text-decoration-color: #00af00\">16</span>)             │           <span style=\"color: #00af00; text-decoration-color: #00af00\">528</span> │\n",
       "├─────────────────────────────────┼────────────────────────┼───────────────┤\n",
       "│ dropout_2 (<span style=\"color: #0087ff; text-decoration-color: #0087ff\">Dropout</span>)             │ (<span style=\"color: #00d7ff; text-decoration-color: #00d7ff\">None</span>, <span style=\"color: #00af00; text-decoration-color: #00af00\">16</span>)             │             <span style=\"color: #00af00; text-decoration-color: #00af00\">0</span> │\n",
       "├─────────────────────────────────┼────────────────────────┼───────────────┤\n",
       "│ dense_3 (<span style=\"color: #0087ff; text-decoration-color: #0087ff\">Dense</span>)                 │ (<span style=\"color: #00d7ff; text-decoration-color: #00d7ff\">None</span>, <span style=\"color: #00af00; text-decoration-color: #00af00\">2</span>)              │            <span style=\"color: #00af00; text-decoration-color: #00af00\">34</span> │\n",
       "└─────────────────────────────────┴────────────────────────┴───────────────┘\n",
       "</pre>\n"
      ],
      "text/plain": [
       "┏━━━━━━━━━━━━━━━━━━━━━━━━━━━━━━━━━┳━━━━━━━━━━━━━━━━━━━━━━━━┳━━━━━━━━━━━━━━━┓\n",
       "┃\u001b[1m \u001b[0m\u001b[1mLayer (type)                   \u001b[0m\u001b[1m \u001b[0m┃\u001b[1m \u001b[0m\u001b[1mOutput Shape          \u001b[0m\u001b[1m \u001b[0m┃\u001b[1m \u001b[0m\u001b[1m      Param #\u001b[0m\u001b[1m \u001b[0m┃\n",
       "┡━━━━━━━━━━━━━━━━━━━━━━━━━━━━━━━━━╇━━━━━━━━━━━━━━━━━━━━━━━━╇━━━━━━━━━━━━━━━┩\n",
       "│ conv1d (\u001b[38;5;33mConv1D\u001b[0m)                 │ (\u001b[38;5;45mNone\u001b[0m, \u001b[38;5;34m70\u001b[0m, \u001b[38;5;34m128\u001b[0m)        │           \u001b[38;5;34m512\u001b[0m │\n",
       "├─────────────────────────────────┼────────────────────────┼───────────────┤\n",
       "│ batch_normalization             │ (\u001b[38;5;45mNone\u001b[0m, \u001b[38;5;34m70\u001b[0m, \u001b[38;5;34m128\u001b[0m)        │           \u001b[38;5;34m512\u001b[0m │\n",
       "│ (\u001b[38;5;33mBatchNormalization\u001b[0m)            │                        │               │\n",
       "├─────────────────────────────────┼────────────────────────┼───────────────┤\n",
       "│ max_pooling1d (\u001b[38;5;33mMaxPooling1D\u001b[0m)    │ (\u001b[38;5;45mNone\u001b[0m, \u001b[38;5;34m35\u001b[0m, \u001b[38;5;34m128\u001b[0m)        │             \u001b[38;5;34m0\u001b[0m │\n",
       "├─────────────────────────────────┼────────────────────────┼───────────────┤\n",
       "│ conv1d_1 (\u001b[38;5;33mConv1D\u001b[0m)               │ (\u001b[38;5;45mNone\u001b[0m, \u001b[38;5;34m35\u001b[0m, \u001b[38;5;34m128\u001b[0m)        │        \u001b[38;5;34m49,280\u001b[0m │\n",
       "├─────────────────────────────────┼────────────────────────┼───────────────┤\n",
       "│ batch_normalization_1           │ (\u001b[38;5;45mNone\u001b[0m, \u001b[38;5;34m35\u001b[0m, \u001b[38;5;34m128\u001b[0m)        │           \u001b[38;5;34m512\u001b[0m │\n",
       "│ (\u001b[38;5;33mBatchNormalization\u001b[0m)            │                        │               │\n",
       "├─────────────────────────────────┼────────────────────────┼───────────────┤\n",
       "│ max_pooling1d_1 (\u001b[38;5;33mMaxPooling1D\u001b[0m)  │ (\u001b[38;5;45mNone\u001b[0m, \u001b[38;5;34m17\u001b[0m, \u001b[38;5;34m128\u001b[0m)        │             \u001b[38;5;34m0\u001b[0m │\n",
       "├─────────────────────────────────┼────────────────────────┼───────────────┤\n",
       "│ conv1d_2 (\u001b[38;5;33mConv1D\u001b[0m)               │ (\u001b[38;5;45mNone\u001b[0m, \u001b[38;5;34m17\u001b[0m, \u001b[38;5;34m64\u001b[0m)         │        \u001b[38;5;34m24,640\u001b[0m │\n",
       "├─────────────────────────────────┼────────────────────────┼───────────────┤\n",
       "│ max_pooling1d_2 (\u001b[38;5;33mMaxPooling1D\u001b[0m)  │ (\u001b[38;5;45mNone\u001b[0m, \u001b[38;5;34m8\u001b[0m, \u001b[38;5;34m64\u001b[0m)          │             \u001b[38;5;34m0\u001b[0m │\n",
       "├─────────────────────────────────┼────────────────────────┼───────────────┤\n",
       "│ flatten (\u001b[38;5;33mFlatten\u001b[0m)               │ (\u001b[38;5;45mNone\u001b[0m, \u001b[38;5;34m512\u001b[0m)            │             \u001b[38;5;34m0\u001b[0m │\n",
       "├─────────────────────────────────┼────────────────────────┼───────────────┤\n",
       "│ dense (\u001b[38;5;33mDense\u001b[0m)                   │ (\u001b[38;5;45mNone\u001b[0m, \u001b[38;5;34m64\u001b[0m)             │        \u001b[38;5;34m32,832\u001b[0m │\n",
       "├─────────────────────────────────┼────────────────────────┼───────────────┤\n",
       "│ dropout (\u001b[38;5;33mDropout\u001b[0m)               │ (\u001b[38;5;45mNone\u001b[0m, \u001b[38;5;34m64\u001b[0m)             │             \u001b[38;5;34m0\u001b[0m │\n",
       "├─────────────────────────────────┼────────────────────────┼───────────────┤\n",
       "│ dense_1 (\u001b[38;5;33mDense\u001b[0m)                 │ (\u001b[38;5;45mNone\u001b[0m, \u001b[38;5;34m32\u001b[0m)             │         \u001b[38;5;34m2,080\u001b[0m │\n",
       "├─────────────────────────────────┼────────────────────────┼───────────────┤\n",
       "│ dropout_1 (\u001b[38;5;33mDropout\u001b[0m)             │ (\u001b[38;5;45mNone\u001b[0m, \u001b[38;5;34m32\u001b[0m)             │             \u001b[38;5;34m0\u001b[0m │\n",
       "├─────────────────────────────────┼────────────────────────┼───────────────┤\n",
       "│ dense_2 (\u001b[38;5;33mDense\u001b[0m)                 │ (\u001b[38;5;45mNone\u001b[0m, \u001b[38;5;34m16\u001b[0m)             │           \u001b[38;5;34m528\u001b[0m │\n",
       "├─────────────────────────────────┼────────────────────────┼───────────────┤\n",
       "│ dropout_2 (\u001b[38;5;33mDropout\u001b[0m)             │ (\u001b[38;5;45mNone\u001b[0m, \u001b[38;5;34m16\u001b[0m)             │             \u001b[38;5;34m0\u001b[0m │\n",
       "├─────────────────────────────────┼────────────────────────┼───────────────┤\n",
       "│ dense_3 (\u001b[38;5;33mDense\u001b[0m)                 │ (\u001b[38;5;45mNone\u001b[0m, \u001b[38;5;34m2\u001b[0m)              │            \u001b[38;5;34m34\u001b[0m │\n",
       "└─────────────────────────────────┴────────────────────────┴───────────────┘\n"
      ]
     },
     "metadata": {},
     "output_type": "display_data"
    },
    {
     "data": {
      "text/html": [
       "<pre style=\"white-space:pre;overflow-x:auto;line-height:normal;font-family:Menlo,'DejaVu Sans Mono',consolas,'Courier New',monospace\"><span style=\"font-weight: bold\"> Total params: </span><span style=\"color: #00af00; text-decoration-color: #00af00\">110,930</span> (433.32 KB)\n",
       "</pre>\n"
      ],
      "text/plain": [
       "\u001b[1m Total params: \u001b[0m\u001b[38;5;34m110,930\u001b[0m (433.32 KB)\n"
      ]
     },
     "metadata": {},
     "output_type": "display_data"
    },
    {
     "data": {
      "text/html": [
       "<pre style=\"white-space:pre;overflow-x:auto;line-height:normal;font-family:Menlo,'DejaVu Sans Mono',consolas,'Courier New',monospace\"><span style=\"font-weight: bold\"> Trainable params: </span><span style=\"color: #00af00; text-decoration-color: #00af00\">110,418</span> (431.32 KB)\n",
       "</pre>\n"
      ],
      "text/plain": [
       "\u001b[1m Trainable params: \u001b[0m\u001b[38;5;34m110,418\u001b[0m (431.32 KB)\n"
      ]
     },
     "metadata": {},
     "output_type": "display_data"
    },
    {
     "data": {
      "text/html": [
       "<pre style=\"white-space:pre;overflow-x:auto;line-height:normal;font-family:Menlo,'DejaVu Sans Mono',consolas,'Courier New',monospace\"><span style=\"font-weight: bold\"> Non-trainable params: </span><span style=\"color: #00af00; text-decoration-color: #00af00\">512</span> (2.00 KB)\n",
       "</pre>\n"
      ],
      "text/plain": [
       "\u001b[1m Non-trainable params: \u001b[0m\u001b[38;5;34m512\u001b[0m (2.00 KB)\n"
      ]
     },
     "metadata": {},
     "output_type": "display_data"
    }
   ],
   "source": [
    "model.summary()"
   ]
  },
  {
   "cell_type": "code",
   "execution_count": 32,
   "metadata": {
    "execution": {
     "iopub.execute_input": "2024-12-13T18:04:33.313484Z",
     "iopub.status.busy": "2024-12-13T18:04:33.313133Z",
     "iopub.status.idle": "2024-12-13T18:04:33.329942Z",
     "shell.execute_reply": "2024-12-13T18:04:33.329032Z",
     "shell.execute_reply.started": "2024-12-13T18:04:33.313452Z"
    },
    "trusted": true
   },
   "outputs": [],
   "source": [
    "model.compile(loss='binary_crossentropy', optimizer='adam', metrics=['accuracy'])"
   ]
  },
  {
   "cell_type": "code",
   "execution_count": 33,
   "metadata": {
    "execution": {
     "iopub.execute_input": "2024-12-13T18:04:33.332370Z",
     "iopub.status.busy": "2024-12-13T18:04:33.331719Z",
     "iopub.status.idle": "2024-12-13T18:20:19.192563Z",
     "shell.execute_reply": "2024-12-13T18:20:19.191647Z",
     "shell.execute_reply.started": "2024-12-13T18:04:33.332320Z"
    },
    "trusted": true
   },
   "outputs": [
    {
     "name": "stdout",
     "output_type": "stream",
     "text": [
      "Epoch 1/100\n"
     ]
    },
    {
     "name": "stderr",
     "output_type": "stream",
     "text": [
      "WARNING: All log messages before absl::InitializeLog() is called are written to STDERR\n",
      "I0000 00:00:1734113076.507581    1932 service.cc:145] XLA service 0x7df4c0015b30 initialized for platform CUDA (this does not guarantee that XLA will be used). Devices:\n",
      "I0000 00:00:1734113076.507648    1932 service.cc:153]   StreamExecutor device (0): Tesla P100-PCIE-16GB, Compute Capability 6.0\n"
     ]
    },
    {
     "name": "stdout",
     "output_type": "stream",
     "text": [
      "\u001b[1m  52/2745\u001b[0m \u001b[37m━━━━━━━━━━━━━━━━━━━━\u001b[0m \u001b[1m8s\u001b[0m 3ms/step - accuracy: 0.6560 - loss: 0.6863 "
     ]
    },
    {
     "name": "stderr",
     "output_type": "stream",
     "text": [
      "I0000 00:00:1734113083.690207    1932 device_compiler.h:188] Compiled cluster using XLA!  This line is logged at most once for the lifetime of the process.\n"
     ]
    },
    {
     "name": "stdout",
     "output_type": "stream",
     "text": [
      "\u001b[1m2745/2745\u001b[0m \u001b[32m━━━━━━━━━━━━━━━━━━━━\u001b[0m\u001b[37m\u001b[0m \u001b[1m20s\u001b[0m 4ms/step - accuracy: 0.7186 - loss: 0.5925 - val_accuracy: 0.7227 - val_loss: 0.5596\n",
      "Epoch 2/100\n",
      "\u001b[1m2745/2745\u001b[0m \u001b[32m━━━━━━━━━━━━━━━━━━━━\u001b[0m\u001b[37m\u001b[0m \u001b[1m9s\u001b[0m 3ms/step - accuracy: 0.7656 - loss: 0.5656 - val_accuracy: 0.8211 - val_loss: 0.5420\n",
      "Epoch 3/100\n",
      "\u001b[1m2745/2745\u001b[0m \u001b[32m━━━━━━━━━━━━━━━━━━━━\u001b[0m\u001b[37m\u001b[0m \u001b[1m10s\u001b[0m 4ms/step - accuracy: 0.7911 - loss: 0.5460 - val_accuracy: 0.8400 - val_loss: 0.5182\n",
      "Epoch 4/100\n",
      "\u001b[1m2745/2745\u001b[0m \u001b[32m━━━━━━━━━━━━━━━━━━━━\u001b[0m\u001b[37m\u001b[0m \u001b[1m9s\u001b[0m 3ms/step - accuracy: 0.8029 - loss: 0.5285 - val_accuracy: 0.8682 - val_loss: 0.5007\n",
      "Epoch 5/100\n",
      "\u001b[1m2745/2745\u001b[0m \u001b[32m━━━━━━━━━━━━━━━━━━━━\u001b[0m\u001b[37m\u001b[0m \u001b[1m9s\u001b[0m 3ms/step - accuracy: 0.8074 - loss: 0.5116 - val_accuracy: 0.8428 - val_loss: 0.4877\n",
      "Epoch 6/100\n",
      "\u001b[1m2745/2745\u001b[0m \u001b[32m━━━━━━━━━━━━━━━━━━━━\u001b[0m\u001b[37m\u001b[0m \u001b[1m9s\u001b[0m 3ms/step - accuracy: 0.8029 - loss: 0.4964 - val_accuracy: 0.8364 - val_loss: 0.4629\n",
      "Epoch 7/100\n",
      "\u001b[1m2745/2745\u001b[0m \u001b[32m━━━━━━━━━━━━━━━━━━━━\u001b[0m\u001b[37m\u001b[0m \u001b[1m9s\u001b[0m 3ms/step - accuracy: 0.8131 - loss: 0.4820 - val_accuracy: 0.8681 - val_loss: 0.4524\n",
      "Epoch 8/100\n",
      "\u001b[1m2745/2745\u001b[0m \u001b[32m━━━━━━━━━━━━━━━━━━━━\u001b[0m\u001b[37m\u001b[0m \u001b[1m9s\u001b[0m 3ms/step - accuracy: 0.8193 - loss: 0.4686 - val_accuracy: 0.8540 - val_loss: 0.4437\n",
      "Epoch 9/100\n",
      "\u001b[1m2745/2745\u001b[0m \u001b[32m━━━━━━━━━━━━━━━━━━━━\u001b[0m\u001b[37m\u001b[0m \u001b[1m9s\u001b[0m 3ms/step - accuracy: 0.8172 - loss: 0.4592 - val_accuracy: 0.8663 - val_loss: 0.4318\n",
      "Epoch 10/100\n",
      "\u001b[1m2745/2745\u001b[0m \u001b[32m━━━━━━━━━━━━━━━━━━━━\u001b[0m\u001b[37m\u001b[0m \u001b[1m9s\u001b[0m 3ms/step - accuracy: 0.8156 - loss: 0.4478 - val_accuracy: 0.8726 - val_loss: 0.4196\n",
      "Epoch 11/100\n",
      "\u001b[1m2745/2745\u001b[0m \u001b[32m━━━━━━━━━━━━━━━━━━━━\u001b[0m\u001b[37m\u001b[0m \u001b[1m9s\u001b[0m 3ms/step - accuracy: 0.8230 - loss: 0.4361 - val_accuracy: 0.8685 - val_loss: 0.4111\n",
      "Epoch 12/100\n",
      "\u001b[1m2745/2745\u001b[0m \u001b[32m━━━━━━━━━━━━━━━━━━━━\u001b[0m\u001b[37m\u001b[0m \u001b[1m9s\u001b[0m 3ms/step - accuracy: 0.8184 - loss: 0.4287 - val_accuracy: 0.8703 - val_loss: 0.4052\n",
      "Epoch 13/100\n",
      "\u001b[1m2745/2745\u001b[0m \u001b[32m━━━━━━━━━━━━━━━━━━━━\u001b[0m\u001b[37m\u001b[0m \u001b[1m9s\u001b[0m 3ms/step - accuracy: 0.8192 - loss: 0.4185 - val_accuracy: 0.8709 - val_loss: 0.3952\n",
      "Epoch 14/100\n",
      "\u001b[1m2745/2745\u001b[0m \u001b[32m━━━━━━━━━━━━━━━━━━━━\u001b[0m\u001b[37m\u001b[0m \u001b[1m9s\u001b[0m 3ms/step - accuracy: 0.8147 - loss: 0.4088 - val_accuracy: 0.8752 - val_loss: 0.3865\n",
      "Epoch 15/100\n",
      "\u001b[1m2745/2745\u001b[0m \u001b[32m━━━━━━━━━━━━━━━━━━━━\u001b[0m\u001b[37m\u001b[0m \u001b[1m9s\u001b[0m 3ms/step - accuracy: 0.8198 - loss: 0.4039 - val_accuracy: 0.8650 - val_loss: 0.3854\n",
      "Epoch 16/100\n",
      "\u001b[1m2745/2745\u001b[0m \u001b[32m━━━━━━━━━━━━━━━━━━━━\u001b[0m\u001b[37m\u001b[0m \u001b[1m9s\u001b[0m 3ms/step - accuracy: 0.8195 - loss: 0.3966 - val_accuracy: 0.8537 - val_loss: 0.3705\n",
      "Epoch 17/100\n",
      "\u001b[1m2745/2745\u001b[0m \u001b[32m━━━━━━━━━━━━━━━━━━━━\u001b[0m\u001b[37m\u001b[0m \u001b[1m10s\u001b[0m 3ms/step - accuracy: 0.8220 - loss: 0.3870 - val_accuracy: 0.8765 - val_loss: 0.3625\n",
      "Epoch 18/100\n",
      "\u001b[1m2745/2745\u001b[0m \u001b[32m━━━━━━━━━━━━━━━━━━━━\u001b[0m\u001b[37m\u001b[0m \u001b[1m9s\u001b[0m 3ms/step - accuracy: 0.8210 - loss: 0.3818 - val_accuracy: 0.8381 - val_loss: 0.3613\n",
      "Epoch 19/100\n",
      "\u001b[1m2745/2745\u001b[0m \u001b[32m━━━━━━━━━━━━━━━━━━━━\u001b[0m\u001b[37m\u001b[0m \u001b[1m10s\u001b[0m 3ms/step - accuracy: 0.8157 - loss: 0.3770 - val_accuracy: 0.8644 - val_loss: 0.3549\n",
      "Epoch 20/100\n",
      "\u001b[1m2745/2745\u001b[0m \u001b[32m━━━━━━━━━━━━━━━━━━━━\u001b[0m\u001b[37m\u001b[0m \u001b[1m10s\u001b[0m 4ms/step - accuracy: 0.8268 - loss: 0.3708 - val_accuracy: 0.8641 - val_loss: 0.3541\n",
      "Epoch 21/100\n",
      "\u001b[1m2745/2745\u001b[0m \u001b[32m━━━━━━━━━━━━━━━━━━━━\u001b[0m\u001b[37m\u001b[0m \u001b[1m10s\u001b[0m 3ms/step - accuracy: 0.8204 - loss: 0.3661 - val_accuracy: 0.8529 - val_loss: 0.3429\n",
      "Epoch 22/100\n",
      "\u001b[1m2745/2745\u001b[0m \u001b[32m━━━━━━━━━━━━━━━━━━━━\u001b[0m\u001b[37m\u001b[0m \u001b[1m10s\u001b[0m 4ms/step - accuracy: 0.8154 - loss: 0.3600 - val_accuracy: 0.8679 - val_loss: 0.3420\n",
      "Epoch 23/100\n",
      "\u001b[1m2745/2745\u001b[0m \u001b[32m━━━━━━━━━━━━━━━━━━━━\u001b[0m\u001b[37m\u001b[0m \u001b[1m10s\u001b[0m 3ms/step - accuracy: 0.8216 - loss: 0.3549 - val_accuracy: 0.8617 - val_loss: 0.3490\n",
      "Epoch 24/100\n",
      "\u001b[1m2745/2745\u001b[0m \u001b[32m━━━━━━━━━━━━━━━━━━━━\u001b[0m\u001b[37m\u001b[0m \u001b[1m10s\u001b[0m 3ms/step - accuracy: 0.8189 - loss: 0.3522 - val_accuracy: 0.8774 - val_loss: 0.3402\n",
      "Epoch 25/100\n",
      "\u001b[1m2745/2745\u001b[0m \u001b[32m━━━━━━━━━━━━━━━━━━━━\u001b[0m\u001b[37m\u001b[0m \u001b[1m9s\u001b[0m 3ms/step - accuracy: 0.8194 - loss: 0.3481 - val_accuracy: 0.8673 - val_loss: 0.3359\n",
      "Epoch 26/100\n",
      "\u001b[1m2745/2745\u001b[0m \u001b[32m━━━━━━━━━━━━━━━━━━━━\u001b[0m\u001b[37m\u001b[0m \u001b[1m9s\u001b[0m 3ms/step - accuracy: 0.8247 - loss: 0.3456 - val_accuracy: 0.8910 - val_loss: 0.3290\n",
      "Epoch 27/100\n",
      "\u001b[1m2745/2745\u001b[0m \u001b[32m━━━━━━━━━━━━━━━━━━━━\u001b[0m\u001b[37m\u001b[0m \u001b[1m9s\u001b[0m 3ms/step - accuracy: 0.8242 - loss: 0.3383 - val_accuracy: 0.8556 - val_loss: 0.3244\n",
      "Epoch 28/100\n",
      "\u001b[1m2745/2745\u001b[0m \u001b[32m━━━━━━━━━━━━━━━━━━━━\u001b[0m\u001b[37m\u001b[0m \u001b[1m10s\u001b[0m 3ms/step - accuracy: 0.8212 - loss: 0.3337 - val_accuracy: 0.8690 - val_loss: 0.3266\n",
      "Epoch 29/100\n",
      "\u001b[1m2745/2745\u001b[0m \u001b[32m━━━━━━━━━━━━━━━━━━━━\u001b[0m\u001b[37m\u001b[0m \u001b[1m9s\u001b[0m 3ms/step - accuracy: 0.8173 - loss: 0.3327 - val_accuracy: 0.8783 - val_loss: 0.3228\n",
      "Epoch 30/100\n",
      "\u001b[1m2745/2745\u001b[0m \u001b[32m━━━━━━━━━━━━━━━━━━━━\u001b[0m\u001b[37m\u001b[0m \u001b[1m9s\u001b[0m 3ms/step - accuracy: 0.8172 - loss: 0.3276 - val_accuracy: 0.8792 - val_loss: 0.3168\n",
      "Epoch 31/100\n",
      "\u001b[1m2745/2745\u001b[0m \u001b[32m━━━━━━━━━━━━━━━━━━━━\u001b[0m\u001b[37m\u001b[0m \u001b[1m9s\u001b[0m 3ms/step - accuracy: 0.8175 - loss: 0.3230 - val_accuracy: 0.8758 - val_loss: 0.3147\n",
      "Epoch 32/100\n",
      "\u001b[1m2745/2745\u001b[0m \u001b[32m━━━━━━━━━━━━━━━━━━━━\u001b[0m\u001b[37m\u001b[0m \u001b[1m10s\u001b[0m 3ms/step - accuracy: 0.8176 - loss: 0.3199 - val_accuracy: 0.8876 - val_loss: 0.3140\n",
      "Epoch 33/100\n",
      "\u001b[1m2745/2745\u001b[0m \u001b[32m━━━━━━━━━━━━━━━━━━━━\u001b[0m\u001b[37m\u001b[0m \u001b[1m10s\u001b[0m 3ms/step - accuracy: 0.8245 - loss: 0.3172 - val_accuracy: 0.8835 - val_loss: 0.3064\n",
      "Epoch 34/100\n",
      "\u001b[1m2745/2745\u001b[0m \u001b[32m━━━━━━━━━━━━━━━━━━━━\u001b[0m\u001b[37m\u001b[0m \u001b[1m9s\u001b[0m 3ms/step - accuracy: 0.8258 - loss: 0.3117 - val_accuracy: 0.8743 - val_loss: 0.3078\n",
      "Epoch 35/100\n",
      "\u001b[1m2745/2745\u001b[0m \u001b[32m━━━━━━━━━━━━━━━━━━━━\u001b[0m\u001b[37m\u001b[0m \u001b[1m9s\u001b[0m 3ms/step - accuracy: 0.8214 - loss: 0.3083 - val_accuracy: 0.8864 - val_loss: 0.3045\n",
      "Epoch 36/100\n",
      "\u001b[1m2745/2745\u001b[0m \u001b[32m━━━━━━━━━━━━━━━━━━━━\u001b[0m\u001b[37m\u001b[0m \u001b[1m10s\u001b[0m 3ms/step - accuracy: 0.8264 - loss: 0.3081 - val_accuracy: 0.8884 - val_loss: 0.3069\n",
      "Epoch 37/100\n",
      "\u001b[1m2745/2745\u001b[0m \u001b[32m━━━━━━━━━━━━━━━━━━━━\u001b[0m\u001b[37m\u001b[0m \u001b[1m10s\u001b[0m 3ms/step - accuracy: 0.8191 - loss: 0.3064 - val_accuracy: 0.8879 - val_loss: 0.3023\n",
      "Epoch 38/100\n",
      "\u001b[1m2745/2745\u001b[0m \u001b[32m━━━━━━━━━━━━━━━━━━━━\u001b[0m\u001b[37m\u001b[0m \u001b[1m9s\u001b[0m 3ms/step - accuracy: 0.8251 - loss: 0.3020 - val_accuracy: 0.8711 - val_loss: 0.3151\n",
      "Epoch 39/100\n",
      "\u001b[1m2745/2745\u001b[0m \u001b[32m━━━━━━━━━━━━━━━━━━━━\u001b[0m\u001b[37m\u001b[0m \u001b[1m9s\u001b[0m 3ms/step - accuracy: 0.8187 - loss: 0.3015 - val_accuracy: 0.8916 - val_loss: 0.3020\n",
      "Epoch 40/100\n",
      "\u001b[1m2745/2745\u001b[0m \u001b[32m━━━━━━━━━━━━━━━━━━━━\u001b[0m\u001b[37m\u001b[0m \u001b[1m9s\u001b[0m 3ms/step - accuracy: 0.8204 - loss: 0.2971 - val_accuracy: 0.8735 - val_loss: 0.2992\n",
      "Epoch 41/100\n",
      "\u001b[1m2745/2745\u001b[0m \u001b[32m━━━━━━━━━━━━━━━━━━━━\u001b[0m\u001b[37m\u001b[0m \u001b[1m9s\u001b[0m 3ms/step - accuracy: 0.8151 - loss: 0.2934 - val_accuracy: 0.8816 - val_loss: 0.2984\n",
      "Epoch 42/100\n",
      "\u001b[1m2745/2745\u001b[0m \u001b[32m━━━━━━━━━━━━━━━━━━━━\u001b[0m\u001b[37m\u001b[0m \u001b[1m9s\u001b[0m 3ms/step - accuracy: 0.8293 - loss: 0.2939 - val_accuracy: 0.8771 - val_loss: 0.2978\n",
      "Epoch 43/100\n",
      "\u001b[1m2745/2745\u001b[0m \u001b[32m━━━━━━━━━━━━━━━━━━━━\u001b[0m\u001b[37m\u001b[0m \u001b[1m9s\u001b[0m 3ms/step - accuracy: 0.8143 - loss: 0.2904 - val_accuracy: 0.8722 - val_loss: 0.2866\n",
      "Epoch 44/100\n",
      "\u001b[1m2745/2745\u001b[0m \u001b[32m━━━━━━━━━━━━━━━━━━━━\u001b[0m\u001b[37m\u001b[0m \u001b[1m10s\u001b[0m 3ms/step - accuracy: 0.8162 - loss: 0.2879 - val_accuracy: 0.8934 - val_loss: 0.2897\n",
      "Epoch 45/100\n",
      "\u001b[1m2745/2745\u001b[0m \u001b[32m━━━━━━━━━━━━━━━━━━━━\u001b[0m\u001b[37m\u001b[0m \u001b[1m9s\u001b[0m 3ms/step - accuracy: 0.8307 - loss: 0.2856 - val_accuracy: 0.8634 - val_loss: 0.2880\n",
      "Epoch 46/100\n",
      "\u001b[1m2745/2745\u001b[0m \u001b[32m━━━━━━━━━━━━━━━━━━━━\u001b[0m\u001b[37m\u001b[0m \u001b[1m9s\u001b[0m 3ms/step - accuracy: 0.8196 - loss: 0.2839 - val_accuracy: 0.8956 - val_loss: 0.2811\n",
      "Epoch 47/100\n",
      "\u001b[1m2745/2745\u001b[0m \u001b[32m━━━━━━━━━━━━━━━━━━━━\u001b[0m\u001b[37m\u001b[0m \u001b[1m9s\u001b[0m 3ms/step - accuracy: 0.8214 - loss: 0.2802 - val_accuracy: 0.8871 - val_loss: 0.2898\n",
      "Epoch 48/100\n",
      "\u001b[1m2745/2745\u001b[0m \u001b[32m━━━━━━━━━━━━━━━━━━━━\u001b[0m\u001b[37m\u001b[0m \u001b[1m9s\u001b[0m 3ms/step - accuracy: 0.8202 - loss: 0.2808 - val_accuracy: 0.8933 - val_loss: 0.2829\n",
      "Epoch 49/100\n",
      "\u001b[1m2745/2745\u001b[0m \u001b[32m━━━━━━━━━━━━━━━━━━━━\u001b[0m\u001b[37m\u001b[0m \u001b[1m9s\u001b[0m 3ms/step - accuracy: 0.8188 - loss: 0.2757 - val_accuracy: 0.8546 - val_loss: 0.2829\n",
      "Epoch 50/100\n",
      "\u001b[1m2745/2745\u001b[0m \u001b[32m━━━━━━━━━━━━━━━━━━━━\u001b[0m\u001b[37m\u001b[0m \u001b[1m9s\u001b[0m 3ms/step - accuracy: 0.8178 - loss: 0.2768 - val_accuracy: 0.8523 - val_loss: 0.2843\n",
      "Epoch 51/100\n",
      "\u001b[1m2745/2745\u001b[0m \u001b[32m━━━━━━━━━━━━━━━━━━━━\u001b[0m\u001b[37m\u001b[0m \u001b[1m9s\u001b[0m 3ms/step - accuracy: 0.8185 - loss: 0.2756 - val_accuracy: 0.8900 - val_loss: 0.2851\n",
      "Epoch 52/100\n",
      "\u001b[1m2745/2745\u001b[0m \u001b[32m━━━━━━━━━━━━━━━━━━━━\u001b[0m\u001b[37m\u001b[0m \u001b[1m9s\u001b[0m 3ms/step - accuracy: 0.8273 - loss: 0.2775 - val_accuracy: 0.8727 - val_loss: 0.2853\n",
      "Epoch 53/100\n",
      "\u001b[1m2745/2745\u001b[0m \u001b[32m━━━━━━━━━━━━━━━━━━━━\u001b[0m\u001b[37m\u001b[0m \u001b[1m9s\u001b[0m 3ms/step - accuracy: 0.8232 - loss: 0.2715 - val_accuracy: 0.8651 - val_loss: 0.2812\n",
      "Epoch 54/100\n",
      "\u001b[1m2745/2745\u001b[0m \u001b[32m━━━━━━━━━━━━━━━━━━━━\u001b[0m\u001b[37m\u001b[0m \u001b[1m9s\u001b[0m 3ms/step - accuracy: 0.8189 - loss: 0.2710 - val_accuracy: 0.8778 - val_loss: 0.2827\n",
      "Epoch 55/100\n",
      "\u001b[1m2745/2745\u001b[0m \u001b[32m━━━━━━━━━━━━━━━━━━━━\u001b[0m\u001b[37m\u001b[0m \u001b[1m9s\u001b[0m 3ms/step - accuracy: 0.8171 - loss: 0.2700 - val_accuracy: 0.8821 - val_loss: 0.2791\n",
      "Epoch 56/100\n",
      "\u001b[1m2745/2745\u001b[0m \u001b[32m━━━━━━━━━━━━━━━━━━━━\u001b[0m\u001b[37m\u001b[0m \u001b[1m9s\u001b[0m 3ms/step - accuracy: 0.8241 - loss: 0.2653 - val_accuracy: 0.8691 - val_loss: 0.2832\n",
      "Epoch 57/100\n",
      "\u001b[1m2745/2745\u001b[0m \u001b[32m━━━━━━━━━━━━━━━━━━━━\u001b[0m\u001b[37m\u001b[0m \u001b[1m9s\u001b[0m 3ms/step - accuracy: 0.8170 - loss: 0.2658 - val_accuracy: 0.8992 - val_loss: 0.2828\n",
      "Epoch 58/100\n",
      "\u001b[1m2745/2745\u001b[0m \u001b[32m━━━━━━━━━━━━━━━━━━━━\u001b[0m\u001b[37m\u001b[0m \u001b[1m9s\u001b[0m 3ms/step - accuracy: 0.8273 - loss: 0.2674 - val_accuracy: 0.9017 - val_loss: 0.2785\n",
      "Epoch 59/100\n",
      "\u001b[1m2745/2745\u001b[0m \u001b[32m━━━━━━━━━━━━━━━━━━━━\u001b[0m\u001b[37m\u001b[0m \u001b[1m9s\u001b[0m 3ms/step - accuracy: 0.8267 - loss: 0.2610 - val_accuracy: 0.8972 - val_loss: 0.2764\n",
      "Epoch 60/100\n",
      "\u001b[1m2745/2745\u001b[0m \u001b[32m━━━━━━━━━━━━━━━━━━━━\u001b[0m\u001b[37m\u001b[0m \u001b[1m9s\u001b[0m 3ms/step - accuracy: 0.8188 - loss: 0.2625 - val_accuracy: 0.8592 - val_loss: 0.2811\n",
      "Epoch 61/100\n",
      "\u001b[1m2745/2745\u001b[0m \u001b[32m━━━━━━━━━━━━━━━━━━━━\u001b[0m\u001b[37m\u001b[0m \u001b[1m9s\u001b[0m 3ms/step - accuracy: 0.8160 - loss: 0.2612 - val_accuracy: 0.8834 - val_loss: 0.2768\n",
      "Epoch 62/100\n",
      "\u001b[1m2745/2745\u001b[0m \u001b[32m━━━━━━━━━━━━━━━━━━━━\u001b[0m\u001b[37m\u001b[0m \u001b[1m9s\u001b[0m 3ms/step - accuracy: 0.8101 - loss: 0.2575 - val_accuracy: 0.9109 - val_loss: 0.2800\n",
      "Epoch 63/100\n",
      "\u001b[1m2745/2745\u001b[0m \u001b[32m━━━━━━━━━━━━━━━━━━━━\u001b[0m\u001b[37m\u001b[0m \u001b[1m9s\u001b[0m 3ms/step - accuracy: 0.8228 - loss: 0.2546 - val_accuracy: 0.8991 - val_loss: 0.2789\n",
      "Epoch 64/100\n",
      "\u001b[1m2745/2745\u001b[0m \u001b[32m━━━━━━━━━━━━━━━━━━━━\u001b[0m\u001b[37m\u001b[0m \u001b[1m9s\u001b[0m 3ms/step - accuracy: 0.8281 - loss: 0.2550 - val_accuracy: 0.9075 - val_loss: 0.2810\n",
      "Epoch 65/100\n",
      "\u001b[1m2745/2745\u001b[0m \u001b[32m━━━━━━━━━━━━━━━━━━━━\u001b[0m\u001b[37m\u001b[0m \u001b[1m9s\u001b[0m 3ms/step - accuracy: 0.8162 - loss: 0.2571 - val_accuracy: 0.8858 - val_loss: 0.2755\n",
      "Epoch 66/100\n",
      "\u001b[1m2745/2745\u001b[0m \u001b[32m━━━━━━━━━━━━━━━━━━━━\u001b[0m\u001b[37m\u001b[0m \u001b[1m9s\u001b[0m 3ms/step - accuracy: 0.8294 - loss: 0.2533 - val_accuracy: 0.8949 - val_loss: 0.2736\n",
      "Epoch 67/100\n",
      "\u001b[1m2745/2745\u001b[0m \u001b[32m━━━━━━━━━━━━━━━━━━━━\u001b[0m\u001b[37m\u001b[0m \u001b[1m9s\u001b[0m 3ms/step - accuracy: 0.8214 - loss: 0.2562 - val_accuracy: 0.8903 - val_loss: 0.2801\n",
      "Epoch 68/100\n",
      "\u001b[1m2745/2745\u001b[0m \u001b[32m━━━━━━━━━━━━━━━━━━━━\u001b[0m\u001b[37m\u001b[0m \u001b[1m9s\u001b[0m 3ms/step - accuracy: 0.8154 - loss: 0.2547 - val_accuracy: 0.8931 - val_loss: 0.2683\n",
      "Epoch 69/100\n",
      "\u001b[1m2745/2745\u001b[0m \u001b[32m━━━━━━━━━━━━━━━━━━━━\u001b[0m\u001b[37m\u001b[0m \u001b[1m9s\u001b[0m 3ms/step - accuracy: 0.8169 - loss: 0.2479 - val_accuracy: 0.8879 - val_loss: 0.2760\n",
      "Epoch 70/100\n",
      "\u001b[1m2745/2745\u001b[0m \u001b[32m━━━━━━━━━━━━━━━━━━━━\u001b[0m\u001b[37m\u001b[0m \u001b[1m9s\u001b[0m 3ms/step - accuracy: 0.8236 - loss: 0.2504 - val_accuracy: 0.8634 - val_loss: 0.2804\n",
      "Epoch 71/100\n",
      "\u001b[1m2745/2745\u001b[0m \u001b[32m━━━━━━━━━━━━━━━━━━━━\u001b[0m\u001b[37m\u001b[0m \u001b[1m9s\u001b[0m 3ms/step - accuracy: 0.8138 - loss: 0.2480 - val_accuracy: 0.8872 - val_loss: 0.2702\n",
      "Epoch 72/100\n",
      "\u001b[1m2745/2745\u001b[0m \u001b[32m━━━━━━━━━━━━━━━━━━━━\u001b[0m\u001b[37m\u001b[0m \u001b[1m9s\u001b[0m 3ms/step - accuracy: 0.8227 - loss: 0.2471 - val_accuracy: 0.9026 - val_loss: 0.2713\n",
      "Epoch 73/100\n",
      "\u001b[1m2745/2745\u001b[0m \u001b[32m━━━━━━━━━━━━━━━━━━━━\u001b[0m\u001b[37m\u001b[0m \u001b[1m9s\u001b[0m 3ms/step - accuracy: 0.8210 - loss: 0.2494 - val_accuracy: 0.9103 - val_loss: 0.2717\n",
      "Epoch 74/100\n",
      "\u001b[1m2745/2745\u001b[0m \u001b[32m━━━━━━━━━━━━━━━━━━━━\u001b[0m\u001b[37m\u001b[0m \u001b[1m9s\u001b[0m 3ms/step - accuracy: 0.8257 - loss: 0.2486 - val_accuracy: 0.8812 - val_loss: 0.2700\n",
      "Epoch 75/100\n",
      "\u001b[1m2745/2745\u001b[0m \u001b[32m━━━━━━━━━━━━━━━━━━━━\u001b[0m\u001b[37m\u001b[0m \u001b[1m9s\u001b[0m 3ms/step - accuracy: 0.8176 - loss: 0.2460 - val_accuracy: 0.9090 - val_loss: 0.2674\n",
      "Epoch 76/100\n",
      "\u001b[1m2745/2745\u001b[0m \u001b[32m━━━━━━━━━━━━━━━━━━━━\u001b[0m\u001b[37m\u001b[0m \u001b[1m9s\u001b[0m 3ms/step - accuracy: 0.8196 - loss: 0.2418 - val_accuracy: 0.8886 - val_loss: 0.2746\n",
      "Epoch 77/100\n",
      "\u001b[1m2745/2745\u001b[0m \u001b[32m━━━━━━━━━━━━━━━━━━━━\u001b[0m\u001b[37m\u001b[0m \u001b[1m9s\u001b[0m 3ms/step - accuracy: 0.8216 - loss: 0.2438 - val_accuracy: 0.9005 - val_loss: 0.2690\n",
      "Epoch 78/100\n",
      "\u001b[1m2745/2745\u001b[0m \u001b[32m━━━━━━━━━━━━━━━━━━━━\u001b[0m\u001b[37m\u001b[0m \u001b[1m9s\u001b[0m 3ms/step - accuracy: 0.8250 - loss: 0.2406 - val_accuracy: 0.9046 - val_loss: 0.2718\n",
      "Epoch 79/100\n",
      "\u001b[1m2745/2745\u001b[0m \u001b[32m━━━━━━━━━━━━━━━━━━━━\u001b[0m\u001b[37m\u001b[0m \u001b[1m9s\u001b[0m 3ms/step - accuracy: 0.8200 - loss: 0.2419 - val_accuracy: 0.8694 - val_loss: 0.2724\n",
      "Epoch 80/100\n",
      "\u001b[1m2745/2745\u001b[0m \u001b[32m━━━━━━━━━━━━━━━━━━━━\u001b[0m\u001b[37m\u001b[0m \u001b[1m9s\u001b[0m 3ms/step - accuracy: 0.8254 - loss: 0.2406 - val_accuracy: 0.8841 - val_loss: 0.2671\n",
      "Epoch 81/100\n",
      "\u001b[1m2745/2745\u001b[0m \u001b[32m━━━━━━━━━━━━━━━━━━━━\u001b[0m\u001b[37m\u001b[0m \u001b[1m9s\u001b[0m 3ms/step - accuracy: 0.8218 - loss: 0.2406 - val_accuracy: 0.8837 - val_loss: 0.2732\n",
      "Epoch 82/100\n",
      "\u001b[1m2745/2745\u001b[0m \u001b[32m━━━━━━━━━━━━━━━━━━━━\u001b[0m\u001b[37m\u001b[0m \u001b[1m9s\u001b[0m 3ms/step - accuracy: 0.8143 - loss: 0.2388 - val_accuracy: 0.8801 - val_loss: 0.2812\n",
      "Epoch 83/100\n",
      "\u001b[1m2745/2745\u001b[0m \u001b[32m━━━━━━━━━━━━━━━━━━━━\u001b[0m\u001b[37m\u001b[0m \u001b[1m9s\u001b[0m 3ms/step - accuracy: 0.8161 - loss: 0.2389 - val_accuracy: 0.9111 - val_loss: 0.2662\n",
      "Epoch 84/100\n",
      "\u001b[1m2745/2745\u001b[0m \u001b[32m━━━━━━━━━━━━━━━━━━━━\u001b[0m\u001b[37m\u001b[0m \u001b[1m9s\u001b[0m 3ms/step - accuracy: 0.8329 - loss: 0.2378 - val_accuracy: 0.8864 - val_loss: 0.2668\n",
      "Epoch 85/100\n",
      "\u001b[1m2745/2745\u001b[0m \u001b[32m━━━━━━━━━━━━━━━━━━━━\u001b[0m\u001b[37m\u001b[0m \u001b[1m9s\u001b[0m 3ms/step - accuracy: 0.8117 - loss: 0.2389 - val_accuracy: 0.8859 - val_loss: 0.2665\n",
      "Epoch 86/100\n",
      "\u001b[1m2745/2745\u001b[0m \u001b[32m━━━━━━━━━━━━━━━━━━━━\u001b[0m\u001b[37m\u001b[0m \u001b[1m10s\u001b[0m 4ms/step - accuracy: 0.8290 - loss: 0.2364 - val_accuracy: 0.8944 - val_loss: 0.2747\n",
      "Epoch 87/100\n",
      "\u001b[1m2745/2745\u001b[0m \u001b[32m━━━━━━━━━━━━━━━━━━━━\u001b[0m\u001b[37m\u001b[0m \u001b[1m9s\u001b[0m 3ms/step - accuracy: 0.8184 - loss: 0.2361 - val_accuracy: 0.8909 - val_loss: 0.2676\n",
      "Epoch 88/100\n",
      "\u001b[1m2745/2745\u001b[0m \u001b[32m━━━━━━━━━━━━━━━━━━━━\u001b[0m\u001b[37m\u001b[0m \u001b[1m9s\u001b[0m 3ms/step - accuracy: 0.8233 - loss: 0.2351 - val_accuracy: 0.8876 - val_loss: 0.2690\n",
      "Epoch 89/100\n",
      "\u001b[1m2745/2745\u001b[0m \u001b[32m━━━━━━━━━━━━━━━━━━━━\u001b[0m\u001b[37m\u001b[0m \u001b[1m9s\u001b[0m 3ms/step - accuracy: 0.8190 - loss: 0.2368 - val_accuracy: 0.9100 - val_loss: 0.2666\n",
      "Epoch 90/100\n",
      "\u001b[1m2745/2745\u001b[0m \u001b[32m━━━━━━━━━━━━━━━━━━━━\u001b[0m\u001b[37m\u001b[0m \u001b[1m9s\u001b[0m 3ms/step - accuracy: 0.8302 - loss: 0.2328 - val_accuracy: 0.8993 - val_loss: 0.2676\n",
      "Epoch 91/100\n",
      "\u001b[1m2745/2745\u001b[0m \u001b[32m━━━━━━━━━━━━━━━━━━━━\u001b[0m\u001b[37m\u001b[0m \u001b[1m9s\u001b[0m 3ms/step - accuracy: 0.8236 - loss: 0.2360 - val_accuracy: 0.8980 - val_loss: 0.2669\n",
      "Epoch 92/100\n",
      "\u001b[1m2745/2745\u001b[0m \u001b[32m━━━━━━━━━━━━━━━━━━━━\u001b[0m\u001b[37m\u001b[0m \u001b[1m9s\u001b[0m 3ms/step - accuracy: 0.8349 - loss: 0.2352 - val_accuracy: 0.8935 - val_loss: 0.2725\n",
      "Epoch 93/100\n",
      "\u001b[1m2745/2745\u001b[0m \u001b[32m━━━━━━━━━━━━━━━━━━━━\u001b[0m\u001b[37m\u001b[0m \u001b[1m9s\u001b[0m 3ms/step - accuracy: 0.8308 - loss: 0.2339 - val_accuracy: 0.8603 - val_loss: 0.2684\n",
      "Epoch 94/100\n",
      "\u001b[1m2745/2745\u001b[0m \u001b[32m━━━━━━━━━━━━━━━━━━━━\u001b[0m\u001b[37m\u001b[0m \u001b[1m9s\u001b[0m 3ms/step - accuracy: 0.8272 - loss: 0.2331 - val_accuracy: 0.9133 - val_loss: 0.2672\n",
      "Epoch 95/100\n",
      "\u001b[1m2745/2745\u001b[0m \u001b[32m━━━━━━━━━━━━━━━━━━━━\u001b[0m\u001b[37m\u001b[0m \u001b[1m9s\u001b[0m 3ms/step - accuracy: 0.8335 - loss: 0.2334 - val_accuracy: 0.8927 - val_loss: 0.2712\n",
      "Epoch 96/100\n",
      "\u001b[1m2745/2745\u001b[0m \u001b[32m━━━━━━━━━━━━━━━━━━━━\u001b[0m\u001b[37m\u001b[0m \u001b[1m9s\u001b[0m 3ms/step - accuracy: 0.8362 - loss: 0.2315 - val_accuracy: 0.8923 - val_loss: 0.2630\n",
      "Epoch 97/100\n",
      "\u001b[1m2745/2745\u001b[0m \u001b[32m━━━━━━━━━━━━━━━━━━━━\u001b[0m\u001b[37m\u001b[0m \u001b[1m9s\u001b[0m 3ms/step - accuracy: 0.8273 - loss: 0.2307 - val_accuracy: 0.8953 - val_loss: 0.2656\n",
      "Epoch 98/100\n",
      "\u001b[1m2745/2745\u001b[0m \u001b[32m━━━━━━━━━━━━━━━━━━━━\u001b[0m\u001b[37m\u001b[0m \u001b[1m9s\u001b[0m 3ms/step - accuracy: 0.8214 - loss: 0.2271 - val_accuracy: 0.9007 - val_loss: 0.2668\n",
      "Epoch 99/100\n",
      "\u001b[1m2745/2745\u001b[0m \u001b[32m━━━━━━━━━━━━━━━━━━━━\u001b[0m\u001b[37m\u001b[0m \u001b[1m9s\u001b[0m 3ms/step - accuracy: 0.8289 - loss: 0.2314 - val_accuracy: 0.8782 - val_loss: 0.2682\n",
      "Epoch 100/100\n",
      "\u001b[1m2745/2745\u001b[0m \u001b[32m━━━━━━━━━━━━━━━━━━━━\u001b[0m\u001b[37m\u001b[0m \u001b[1m9s\u001b[0m 3ms/step - accuracy: 0.8221 - loss: 0.2289 - val_accuracy: 0.8912 - val_loss: 0.2688\n"
     ]
    }
   ],
   "source": [
    "m = model.fit(x_train, y_train, epochs=100, batch_size=32, verbose=1, validation_data=(x_test, y_test), callbacks=[CSVLoggerCallback()])"
   ]
  },
  {
   "cell_type": "code",
   "execution_count": 34,
   "metadata": {
    "execution": {
     "iopub.execute_input": "2024-12-13T18:20:19.194140Z",
     "iopub.status.busy": "2024-12-13T18:20:19.193822Z",
     "iopub.status.idle": "2024-12-13T18:20:19.265279Z",
     "shell.execute_reply": "2024-12-13T18:20:19.264410Z",
     "shell.execute_reply.started": "2024-12-13T18:20:19.194108Z"
    },
    "trusted": true
   },
   "outputs": [],
   "source": [
    "model.save('/kaggle/working/cnn-model.h5')"
   ]
  },
  {
   "cell_type": "markdown",
   "metadata": {},
   "source": [
    "## Model Evaluation"
   ]
  },
  {
   "cell_type": "code",
   "execution_count": 35,
   "metadata": {
    "execution": {
     "iopub.execute_input": "2024-12-13T18:20:19.267093Z",
     "iopub.status.busy": "2024-12-13T18:20:19.266784Z",
     "iopub.status.idle": "2024-12-13T18:20:20.890894Z",
     "shell.execute_reply": "2024-12-13T18:20:20.889831Z",
     "shell.execute_reply.started": "2024-12-13T18:20:19.267063Z"
    },
    "trusted": true
   },
   "outputs": [
    {
     "name": "stdout",
     "output_type": "stream",
     "text": [
      "\u001b[1m915/915\u001b[0m \u001b[32m━━━━━━━━━━━━━━━━━━━━\u001b[0m\u001b[37m\u001b[0m \u001b[1m2s\u001b[0m 2ms/step - accuracy: 0.8642 - loss: 0.2689\n",
      "Test loss: 0.2688101828098297\n",
      "Test accuracy: 0.8911885023117065\n"
     ]
    }
   ],
   "source": [
    "score = model.evaluate(x_test, y_test, verbose=1)\n",
    "print('Test loss:', score[0])\n",
    "print('Test accuracy:', score[1])"
   ]
  },
  {
   "cell_type": "markdown",
   "metadata": {},
   "source": [
    "## Performance Visualization"
   ]
  },
  {
   "cell_type": "code",
   "execution_count": 36,
   "metadata": {
    "execution": {
     "iopub.execute_input": "2024-12-13T18:20:20.892446Z",
     "iopub.status.busy": "2024-12-13T18:20:20.892101Z",
     "iopub.status.idle": "2024-12-13T18:20:21.214846Z",
     "shell.execute_reply": "2024-12-13T18:20:21.213786Z",
     "shell.execute_reply.started": "2024-12-13T18:20:20.892415Z"
    },
    "trusted": true
   },
   "outputs": [
    {
     "name": "stdout",
     "output_type": "stream",
     "text": [
      "dict_keys(['accuracy', 'loss', 'val_accuracy', 'val_loss'])\n"
     ]
    },
    {
     "data": {
      "image/png": "[encoded data removed]",
      "text/plain": [
       "<Figure size 640x480 with 1 Axes>"
      ]
     },
     "metadata": {},
     "output_type": "display_data"
    }
   ],
   "source": [
    "print(m.history.keys())\n",
    "# Summarize history for accuracy\n",
    "plt.plot(m.history['accuracy'])\n",
    "plt.plot(m.history['val_accuracy'])\n",
    "plt.title('model accuracy')\n",
    "plt.ylabel('accuracy')\n",
    "plt.xlabel('epoch')\n",
    "plt.legend(['train', 'test'], loc='upper left')\n",
    "plt.show()"
   ]
  },
  {
   "cell_type": "code",
   "execution_count": 37,
   "metadata": {
    "execution": {
     "iopub.execute_input": "2024-12-13T18:20:21.216360Z",
     "iopub.status.busy": "2024-12-13T18:20:21.216031Z",
     "iopub.status.idle": "2024-12-13T18:20:21.439439Z",
     "shell.execute_reply": "2024-12-13T18:20:21.438354Z",
     "shell.execute_reply.started": "2024-12-13T18:20:21.216329Z"
    },
    "trusted": true
   },
   "outputs": [
    {
     "data": {
      "image/png": "[encoded data removed]",
      "text/plain": [
       "<Figure size 640x480 with 1 Axes>"
      ]
     },
     "metadata": {},
     "output_type": "display_data"
    }
   ],
   "source": [
    "# Summarize history for loss\n",
    "plt.plot(m.history['loss'])\n",
    "plt.plot(m.history['val_loss'])\n",
    "plt.title('model loss')\n",
    "plt.ylabel('loss')\n",
    "plt.xlabel('epoch')\n",
    "plt.legend(['train', 'test'], loc='upper left')\n",
    "plt.show()"
   ]
  },
  {
   "cell_type": "code",
   "execution_count": 38,
   "metadata": {
    "execution": {
     "iopub.execute_input": "2024-12-13T18:20:21.441066Z",
     "iopub.status.busy": "2024-12-13T18:20:21.440775Z",
     "iopub.status.idle": "2024-12-13T18:20:21.704418Z",
     "shell.execute_reply": "2024-12-13T18:20:21.703442Z",
     "shell.execute_reply.started": "2024-12-13T18:20:21.441037Z"
    },
    "trusted": true
   },
   "outputs": [
    {
     "data": {
      "image/png": "[encoded data removed]",
      "text/plain": [
       "<Figure size 640x480 with 1 Axes>"
      ]
     },
     "metadata": {},
     "output_type": "display_data"
    }
   ],
   "source": [
    "plt.plot(m.history['val_accuracy'])\n",
    "plt.plot(m.history['val_loss'])\n",
    "plt.title('test model')\n",
    "plt.ylabel('test accuracy')\n",
    "plt.xlabel('test loss')\n",
    "plt.show()"
   ]
  }
 ],
 "metadata": {
  "kaggle": {
   "accelerator": "gpu",
   "dataSources": [
    {
     "datasetId": 4317501,
     "sourceId": 7420888,
     "sourceType": "datasetVersion"
    }
   ],
   "dockerImageVersionId": 30805,
   "isGpuEnabled": true,
   "isInternetEnabled": true,
   "language": "python",
   "sourceType": "notebook"
  },
  "kernelspec": {
   "display_name": "Python 3",
   "language": "python",
   "name": "python3"
  },
  "language_info": {
   "codemirror_mode": {
    "name": "ipython",
    "version": 3
   },
   "file_extension": ".py",
   "mimetype": "text/x-python",
   "name": "python",
   "nbconvert_exporter": "python",
   "pygments_lexer": "ipython3",
   "version": "3.10.14"
  }
 },
 "nbformat": 4,
 "nbformat_minor": 4
}
